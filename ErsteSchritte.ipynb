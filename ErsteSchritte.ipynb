{
  "nbformat": 4,
  "nbformat_minor": 0,
  "metadata": {
    "colab": {
      "name": "ErsteSchritte.ipynb",
      "provenance": [],
      "collapsed_sections": [],
      "include_colab_link": true
    },
    "kernelspec": {
      "name": "python3",
      "display_name": "Python 3"
    }
  },
  "cells": [
    {
      "cell_type": "markdown",
      "metadata": {
        "id": "view-in-github",
        "colab_type": "text"
      },
      "source": [
        "<a href=\"https://colab.research.google.com/github/dgromann/ProgrammingForTranslators/blob/master/ErsteSchritte.ipynb\" target=\"_parent\"><img src=\"https://colab.research.google.com/assets/colab-badge.svg\" alt=\"Open In Colab\"/></a>"
      ]
    },
    {
      "cell_type": "markdown",
      "metadata": {
        "id": "BcnUc0sL9433",
        "colab_type": "text"
      },
      "source": [
        "# Programmieren für ÜbersetzerInnen - Erste Schritte\n",
        "\n",
        "Dieses Notebook bietet einige interaktive Programmierübungen für Ihre ersten Schritte in der Welt des Programmierens. Es wurde eigens für diesen Workshop angelegt. \n",
        "\n",
        "Wenn Sie den nachfolgenden Code auf Ihrem eigenen Windows-Computer zuhause ausführen möchten, folgen Sie bitte den Anweisungen in der Datei \"ZuhauseProgrammieren.docx\"."
      ]
    },
    {
      "cell_type": "markdown",
      "metadata": {
        "id": "naqT4gwM2X92",
        "colab_type": "text"
      },
      "source": [
        "### Warum programmieren?\n",
        "Damit kann man \"langweilige\" Aufgaben automatisieren, wie etwa suche nach Kollokationen in Text oder die Berechnung der Gewichtung von Fachausdrücken (z. B. TF-IDF Gewichtungen), und jede Anwendung genau an die eigenen Bedürfnisse anpassen. "
      ]
    },
    {
      "cell_type": "markdown",
      "metadata": {
        "id": "5kHcoh1Y1ybd",
        "colab_type": "text"
      },
      "source": [
        "### Warum Python?\n",
        "\n",
        "Es gibt viele verschiedenen Programmiersprachen, z. B. Java, C++, C#, etc. Warum also sollte man also gerade Python lernen? \n",
        "\n",
        "\n",
        "*   *Leicht zu lernen*: eine der einfachsten Programmiersprachen für absolute Anfänger - auch auf diesem Prinzip erstellt\n",
        "*   *Stark nachgefragt*: großer Bedarf an Python-Softwareentwicklern am Markt\n",
        "*   *Weit verbreitet*: Python wird am häufigsten für maschinelles Lernen, inklusive maschineller Übersetzung, Natural Language Processing (NLP) und künstliche Intelligenz im Allgemeinen eingesetzt \n",
        "*   *Große Gemeinschaft*: je mehr Programmierer es gibt, desto mehr Hilfestellungen findet man in Online-Gemeinschaften und -Foren. Es gibt beinahe kein Problem in Python, für das nicht schon online eine Lösung gefunden wurde.\n",
        "\n",
        "Daher ist Python eine sehr attraktive Programmiersprache für SprachexpertInnen. "
      ]
    },
    {
      "cell_type": "markdown",
      "metadata": {
        "id": "5ZwBNTy66egw",
        "colab_type": "text"
      },
      "source": [
        "# Lektion 1: Hallo Welt!\n",
        "\n",
        "In der Welt des Programmierens besteht die lange Tradition als erste Aufgabe in der neuen Sprache \"Hello World!\" auf dem Bildschirm anzeigen zu lassen. \n",
        "\n",
        "Der Befehl `print(\"Hello World!\")` macht genau das wonach er klingt, er gibt den Text innerhalb der Klammern und Anführungszeichen am Bildschirm aus.\n",
        "\n",
        "Die nachstehende graue Zelle ist eine Code-Zelle. Das heißt der darin enthaltene Programmiercode kann vom Computer ausgeführt werden. Code muss nicht nur geschrieben, sondern auch ausgeführt werden. In unserer Workshopumgebung machen Sie dass, indem Sie einmal auf die graue Zelle klicken und dann auf die Schaltfläche \"&#9658;| Run\" unter der Menüleiste klicken oder aus dem Menü \"Cell\" den Befehl \"Run Cells\". \n",
        "\n",
        "Fragen und praktische Aufgaben werden hier als **Frage** bzw. **Aufgabe** gekennzeichnet. **Fragen** fordern Sie dazu auf Überlegungen anzustellen bevor Sie etwas praktisch testen. **Aufgaben** erfordern das aktive Schreibenv on Code in der grauen Code-Zelle nach der Aufgabenbeschreibung. \n"
      ]
    },
    {
      "cell_type": "markdown",
      "metadata": {
        "id": "A5HtIOpEetDr",
        "colab_type": "text"
      },
      "source": [
        "**Frage:** \\\\\n",
        "Was passiert wenn Sie den nachstehenden Code ausführen?"
      ]
    },
    {
      "cell_type": "code",
      "metadata": {
        "id": "pZGmc5wD7RUz",
        "colab_type": "code",
        "colab": {
          "base_uri": "https://localhost:8080/",
          "height": 34
        },
        "outputId": "98ac7e88-8ea5-42af-d462-ac353be42a26"
      },
      "source": [
        "print(\"Welcome to Python!\")"
      ],
      "execution_count": 3,
      "outputs": [
        {
          "output_type": "stream",
          "text": [
            "Welcome to Python!\n"
          ],
          "name": "stdout"
        }
      ]
    },
    {
      "cell_type": "markdown",
      "metadata": {
        "id": "AbTrd68A-8c8",
        "colab_type": "text"
      },
      "source": [
        "**Aufgabe:** \\\\\n",
        "Führen Sie den nachstehenden Code aus. Sie werden eine Fehlermeldung erhalten: \n",
        "\n",
        "\n",
        "*   Die erste Zeile zeigt die Datei und Zeilennummer an in welcher der Fehler aufgetreten ist.\n",
        "*   Die zweite Zeile markiert die Position des Fehlers in der Zeile.\n",
        "*   Die dritte Zeile zeigt an um welche Art von Fehler es sich handelt (EOL = End of Line bzw. auf Deutsch Zeilenende).\n",
        "\n",
        "\n",
        "Was muss im Code geändert werden um den Fehler zu beheben? "
      ]
    },
    {
      "cell_type": "code",
      "metadata": {
        "id": "icSvQlSA-NUi",
        "colab_type": "code",
        "colab": {}
      },
      "source": [
        "print(\"Hello World!"
      ],
      "execution_count": 0,
      "outputs": []
    },
    {
      "cell_type": "markdown",
      "metadata": {
        "id": "Db2jmdHTKw_b",
        "colab_type": "text"
      },
      "source": [
        "# Lektion 2: Variablen \n",
        "\n",
        "Variablen sind im Grunde Speicherplätze für Daten. Variablen speichern einen Wert, egal ob Zahl, Text oder Boolsche Werte (wahr oder falsch). Wenn man diesen Wert später wieder verwenden will, verwendet man einfach die Variable. \n",
        "\n",
        "Im Gegensatz zu anderen Programmiersprachen gibt man bei Python die Art der Variable nicht explizit an. Python erkennt die Art der Variable aufgrund des angegebenen Werts. Also anstelle von `int n = 2` für eine ganze Zahl (int = Integer), kann man in Python einfach `n = 2` sagen und dasselbe Ziel erreichen. \n",
        "\n",
        "Es gibt in Python verschiedene Arten von Datentypen:\n",
        "\n",
        "*   Zahlen\n",
        "*   Strings (Zeichenfolge)\n",
        "*   Collections\n",
        "  *   Liste (geordnete und veränderbare Sammlung; Mehrfachnennungen möglich)\n",
        "  *   Tuple (geordnete und nicht veränderbare Sammlung; Mehrfachnennungen möglich) \n",
        "  *   Set (ungeordnet und veränderbare Sammlung; keine Mehrfachnennungen)\n",
        "  *   Dictionary (ungeordnet, veränderbare, indizierte Sammlung; keine Mehrfachnennungen)\n",
        "\n",
        "Wir konzentrieren uns in diesem Einstiegstutorial auf Zahlen, Strings, und Listen. \n",
        "\n",
        "\n",
        "\n",
        "\n",
        " \n",
        "\n",
        "\n",
        "\n"
      ]
    },
    {
      "cell_type": "markdown",
      "metadata": {
        "id": "qHJRY3boTFeW",
        "colab_type": "text"
      },
      "source": [
        "## Lektion 2.1: Zahlen\n",
        "\n"
      ]
    },
    {
      "cell_type": "markdown",
      "metadata": {
        "id": "sJ1oWjEOZkC_",
        "colab_type": "text"
      },
      "source": [
        "Zahlen können auch direkt eingegeben werden, ebenso wie Text, sind dann aber nicht wiederverwendbar.  "
      ]
    },
    {
      "cell_type": "code",
      "metadata": {
        "id": "qPQ-ItTkZqYw",
        "colab_type": "code",
        "colab": {}
      },
      "source": [
        "# Als Variable \n",
        "result = 2 + 2 \n",
        "print(result)\n",
        "\n",
        "# Direkte Eingabe \n",
        "print(\"Auch dasselbe Ergebnis: \", 2 + 2)"
      ],
      "execution_count": 0,
      "outputs": []
    },
    {
      "cell_type": "markdown",
      "metadata": {
        "id": "k7-SBDKuZjSV",
        "colab_type": "text"
      },
      "source": [
        "Zahlen können als numerische Variablen gespeichert werden. \n",
        "\n",
        "**Frage:** \\\\\n",
        "Was passiert wenn man die folgende Code-Zelle ausführt? Warum werden hier keine Anführungszeichen bei dem `print()`-Befehl verwendet verwendet?"
      ]
    },
    {
      "cell_type": "code",
      "metadata": {
        "id": "zxYR6zUHTpt2",
        "colab_type": "code",
        "colab": {
          "base_uri": "https://localhost:8080/",
          "height": 34
        },
        "outputId": "8bdd26b8-78b0-4d31-ef93-2e797a48ce12"
      },
      "source": [
        "num1 = 2 \n",
        "num2 = 4 \n",
        "result_num = num1 + num2 \n",
        "print(result_num)"
      ],
      "execution_count": 97,
      "outputs": [
        {
          "output_type": "stream",
          "text": [
            "6\n"
          ],
          "name": "stdout"
        }
      ]
    },
    {
      "cell_type": "markdown",
      "metadata": {
        "id": "F1DpOii0URT9",
        "colab_type": "text"
      },
      "source": [
        "Das vorherige Beispiel zeigt ganze Zahlen, es ist aber auch möglich Zahlen mit  Nachkommastellen (sogenannte \"floats\") darzustellen: "
      ]
    },
    {
      "cell_type": "code",
      "metadata": {
        "id": "al7O7ZpdUaiU",
        "colab_type": "code",
        "colab": {}
      },
      "source": [
        "float1 = 2.1\n",
        "float2 = 4.3 \n",
        "float_result = float1 + float2\n",
        "print(float_result)"
      ],
      "execution_count": 0,
      "outputs": []
    },
    {
      "cell_type": "markdown",
      "metadata": {
        "id": "JyoNe5Zx1L5z",
        "colab_type": "text"
      },
      "source": [
        "Wenn der Code schon sehr lange ist oder es nicht ganz klar ersichtlich ist was für eine Art von Variable gerade vorliegt, kann man dies mit der Funktion `type()` ganz leicht herausfinden: "
      ]
    },
    {
      "cell_type": "code",
      "metadata": {
        "id": "jbTRkrsE1UNx",
        "colab_type": "code",
        "colab": {}
      },
      "source": [
        "print(type(num1))\n",
        "print(type(float1))"
      ],
      "execution_count": 0,
      "outputs": []
    },
    {
      "cell_type": "markdown",
      "metadata": {
        "id": "7ixi4_tXUm2n",
        "colab_type": "text"
      },
      "source": [
        "**Frage:** \\\\\n",
        "Was wird am Bildschirm ausgegeben wenn ich den folgenden Code ausführe und warum?"
      ]
    },
    {
      "cell_type": "code",
      "metadata": {
        "id": "23xH8hKiU6BB",
        "colab_type": "code",
        "colab": {
          "base_uri": "https://localhost:8080/",
          "height": 34
        },
        "outputId": "a0c0bd83-8574-4291-dcfc-2e01b8ef26d0"
      },
      "source": [
        "result1 = result + result_num\n",
        "print(result1)"
      ],
      "execution_count": 96,
      "outputs": [
        {
          "output_type": "stream",
          "text": [
            "10\n"
          ],
          "name": "stdout"
        }
      ]
    },
    {
      "cell_type": "markdown",
      "metadata": {
        "id": "T4cSEjdcg34a",
        "colab_type": "text"
      },
      "source": [
        "**Aufgabe:** \\\\\n",
        "Addieren Sie die Variable `result1` mit dem Ergebnis der Float-Operation `float_result`, weisen Sie das Ergebnis einer neuen Variable `result2` zu und geben Sie das Ergebnis auf dem Bildschirm aus."
      ]
    },
    {
      "cell_type": "code",
      "metadata": {
        "id": "Eu5PfvMYg0zo",
        "colab_type": "code",
        "colab": {}
      },
      "source": [
        "# Ich bin ein Kommentar und füge eine Beschreibung für Menschen hinzu (wird nie im Programm berücksichtigt)\n",
        "# Schreiben Sie hier Ihre Addition.  \n",
        "print()"
      ],
      "execution_count": 0,
      "outputs": []
    },
    {
      "cell_type": "markdown",
      "metadata": {
        "id": "sKEulcYN0yY4",
        "colab_type": "text"
      },
      "source": [
        "### Lektion 2.1.1: Arithmetische Operatoren\n",
        "Auf Zahlen können auch viele arithmetische Operationen ausgeführt werden."
      ]
    },
    {
      "cell_type": "markdown",
      "metadata": {
        "id": "NcioGM6AnIBv",
        "colab_type": "text"
      },
      "source": [
        "**Aufgabe:** \\\\\n",
        "Sehen Sie sich die Beispieloperationen in der nächsten Codezelle an und führen Sie die Zelle so wie sie ist aus. Welche der nachstehenden Operationen kennen Sie bereits? Welche nicht? Was könnte ihre Funktion sein? \n",
        "\n",
        "Um das herauszufinden, ändern Sie die Werte von `zahl1` und `zahl2` und führen Sie die Code-Zelle erneut aus. Wiederholen Sie diese Berechnung bis Sie eine Idee bekommen, was jede Operation genau mit den Zahlen macht. Wie Sie sehen kann ich auch direkt das Ergebnis ausgeben, ohne es vorher einer Variable zuzuweisen, wodurch das Ergebnis jedoch auch nicht gespeichert wird.\n"
      ]
    },
    {
      "cell_type": "code",
      "metadata": {
        "id": "a440aXyf-XdN",
        "colab_type": "code",
        "colab": {
          "base_uri": "https://localhost:8080/",
          "height": 121
        },
        "outputId": "7f18b42e-2409-4f78-f1a6-eff190b04e10"
      },
      "source": [
        "zahl1 = 6 \n",
        "zahl2 = 2 \n",
        "\n",
        "print(\"Addition: zahl1 + zahl2 = \", zahl1 + zahl2)\n",
        "print(\"Subtraktion: zahl1 - zahl2 =  \", zahl1 - zahl2)\n",
        "print(\"Multiplikation: zahl1 * zahl2 =  \", zahl1 * zahl2)\n",
        "print(\"Division: zahl1 / zahl2 =  \", zahl1 / zahl2)\n",
        "print(\"Modulus: zahl1 % zahl2 =  \", zahl1 % zahl2)\n",
        "print(\"Exponent: zahl1 ** zahl2 =  \", zahl1 ** zahl2)"
      ],
      "execution_count": 98,
      "outputs": [
        {
          "output_type": "stream",
          "text": [
            "Addition: zahl1 + zahl2 =  8\n",
            "Subtraktion: zahl1 - zahl2 =   4\n",
            "Multiplikation: zahl1 * zahl2 =   12\n",
            "Division: zahl1 / zahl2 =   3.0\n",
            "Modulus: zahl1 % zahl2 =   0\n",
            "Exponent: zahl1 ** zahl2 =   36\n"
          ],
          "name": "stdout"
        }
      ]
    },
    {
      "cell_type": "markdown",
      "metadata": {
        "colab_type": "text",
        "id": "kkQyxzZa3Uqx"
      },
      "source": [
        "### Lektion 2.1.2: Vergleichsoperatoren\n",
        "\n",
        "Wenn man zwei odermehr Variablen miteinander vergleichen will, ist die Verwendung vordefinierter Vergleichsoperatoren sehr sinnvoll.\n",
        "\n",
        "\n",
        "\n",
        "*   `==`: übereprüft die Äquivalenz zwischen den Werten von zwei Variablen\n",
        "*   `!=`: überprüft die Nicht-Äquivalenz zwischen den Werten von zwei Variablen \n",
        "*   `>`: überprüft ob der Wert der linken Variable größer ist als der Wert einer rechten \n",
        "*   `<`: überprüft ob der Wert der linken Variable kleiner ist als der Wert einer rechten \n",
        "*   `>=`: überprüft ob der Wert der linken Variable gößer oder gleich ist dem Wert der rechten einer anderen \n",
        "*   `<=`: überprüft ob der Wert der linken Variable kleiner oder gleich ist dem Wer der rechten einer anderen \n"
      ]
    },
    {
      "cell_type": "code",
      "metadata": {
        "colab_type": "code",
        "id": "In_wvzy_3Uq5",
        "colab": {}
      },
      "source": [
        "print(\"zahl1 == zahl2 \", zahl1 == zahl2)\n",
        "print(\"zahl1 != zahl2 \", zahl1 != zahl2)\n",
        "print(\"zahl1 > zahl2 \", zahl1 > zahl2)\n",
        "print(\"zahl1 < zahl2 \", zahl1 < zahl2)\n",
        "print(\"zahl1 >= zahl2 \", zahl1 >= zahl2)\n",
        "print(\"zahl1 <= zahl2 \", zahl1 <= zahl2)"
      ],
      "execution_count": 0,
      "outputs": []
    },
    {
      "cell_type": "markdown",
      "metadata": {
        "id": "hFARVUn144lB",
        "colab_type": "text"
      },
      "source": [
        "Das Ergebnis, dass hier ausgegeben wird stellt Boolsche Werte dar. Boolsche Werte können immer nur den Wert wahr (`True`) oder falsch (`Falsch`) annehmen udn sind beim Programmieren sehr wichtig. "
      ]
    },
    {
      "cell_type": "markdown",
      "metadata": {
        "id": "emcdrU3QVMCj",
        "colab_type": "text"
      },
      "source": [
        "## Lektion 2.2: Strings\n",
        "\n",
        "In \"Strings\" werden Textdaten in Python gespeichert. Strings können in einfachen oder doppelten Anführungszeichen dargestellt werden.\n",
        "Zum Beispiel:"
      ]
    },
    {
      "cell_type": "code",
      "metadata": {
        "id": "Y-R5JojFvCnh",
        "colab_type": "code",
        "colab": {}
      },
      "source": [
        "print('Das ist ein String.')\n",
        "print(\"Das ist auch ein String\")\n",
        "print(\"Das ist der Unterschied:\")\n",
        "print('doesn\\'t')\n",
        "print(\"doesn't\")\n",
        "print('\"Ja\" hat er gesagt.')"
      ],
      "execution_count": 0,
      "outputs": []
    },
    {
      "cell_type": "markdown",
      "metadata": {
        "id": "6KjnxyB-u7tR",
        "colab_type": "text"
      },
      "source": [
        "Auch auf Strings kann die Operation der Addition angewandt werden:\n",
        "\n",
        "\n"
      ]
    },
    {
      "cell_type": "code",
      "metadata": {
        "id": "0_jSjrD2YK6q",
        "colab_type": "code",
        "colab": {}
      },
      "source": [
        "name1 = \"Dagmar\"\n",
        "name2 = \" Gromann\"\n",
        "result_name = name1 + name2\n",
        "print(result_name)"
      ],
      "execution_count": 0,
      "outputs": []
    },
    {
      "cell_type": "markdown",
      "metadata": {
        "id": "dtSINRbiYe7t",
        "colab_type": "text"
      },
      "source": [
        "\n",
        "**Aufgabe:** \\\\\n",
        "Erstellen Sie eine neue Variable für Ihren Vornamen und eine neue Variable für Ihren Nachnamen. Schreiben Sie dann eine Variable in der Sie beide addieren und geben Sie diese Variable am Bildschirm aus.  "
      ]
    },
    {
      "cell_type": "code",
      "metadata": {
        "id": "0p63YrilZEWx",
        "colab_type": "code",
        "colab": {}
      },
      "source": [
        "# Schreiben Sie hier Ihren Vor- und Nachnamen als Variablen, addieren diese und geben das Resultat aus.\n",
        "print()"
      ],
      "execution_count": 0,
      "outputs": []
    },
    {
      "cell_type": "markdown",
      "metadata": {
        "id": "0d-pSiXMiHOp",
        "colab_type": "text"
      },
      "source": [
        "Ein Leerzeichen kann und wird auch oft als eigener String definiert, um verschiedene Strings flexibel zu kombinieren. Zum Beispiel: "
      ]
    },
    {
      "cell_type": "code",
      "metadata": {
        "id": "nGKYNq-yiz3z",
        "colab_type": "code",
        "colab": {}
      },
      "source": [
        "objekt1 = \"Banane\"\n",
        "objekt2 = \"Apfel\"\n",
        "combination = objekt1 + \" \" + objekt2\n",
        "combination2 = objekt2 + \" \" + objekt1\n",
        "print(combination)\n",
        "print(combination2)"
      ],
      "execution_count": 0,
      "outputs": []
    },
    {
      "cell_type": "markdown",
      "metadata": {
        "id": "qijyR_rQV2JQ",
        "colab_type": "text"
      },
      "source": [
        "Strings sind automatisch indiziert, dass heißt jedem Buchstaben wird ein Index zugewiesen, dann man direkt ansteuern kann. Der Index beginnt mit \"0\", da dies die übliche Zählweise in der Informatik ist - man beginnt immer bei 0."
      ]
    },
    {
      "cell_type": "code",
      "metadata": {
        "id": "FEH8QRjIVziT",
        "colab_type": "code",
        "colab": {}
      },
      "source": [
        "print(\"Der erste Buchstabe des Wortes:\", wort[0])\n",
        "print(\"Der dritte Buchstabe des Wortes:\", wort[3])\n",
        "print(\"Vom ersten zum dritten Buchstaben:\", wort[1:4]) "
      ],
      "execution_count": 0,
      "outputs": []
    },
    {
      "cell_type": "markdown",
      "metadata": {
        "id": "FIS6PtgrXJYg",
        "colab_type": "text"
      },
      "source": [
        "Wird in einem Ausdruck mit zwei Indizes der erste ausgelassen, bedeutet es automatisch \"von Anfang an\". Wird der zweite ausgelassen, bedeutet es automatisch bis \"ganz zum Ende\"."
      ]
    },
    {
      "cell_type": "code",
      "metadata": {
        "id": "nIqW-TpsXKA2",
        "colab_type": "code",
        "colab": {}
      },
      "source": [
        "print(wort[:3]) # Die ersten drei Buchstaben \n",
        "print(wort[3:]) # Alle außer den ersten drei Buchstaben\n",
        "print(wort[:-2]) # Alles außer der letzten zwei Buchstaben\n",
        "print(wort[-2:]) # Nur die letzten zwei Buchstaben"
      ],
      "execution_count": 0,
      "outputs": []
    },
    {
      "cell_type": "markdown",
      "metadata": {
        "id": "6v9XCsmJcTGY",
        "colab_type": "text"
      },
      "source": [
        "**Aufgabe:** \\\\\n",
        "Geben Sie die letzten vier Buchstaben des Wortes \"wort\" mithilfe der nachstehenden Code-Zelle aus."
      ]
    },
    {
      "cell_type": "code",
      "metadata": {
        "id": "2X0QF689cSRF",
        "colab_type": "code",
        "colab": {}
      },
      "source": [
        "print(wort[])"
      ],
      "execution_count": 0,
      "outputs": []
    },
    {
      "cell_type": "markdown",
      "metadata": {
        "id": "XEjqjXYx03lV",
        "colab_type": "text"
      },
      "source": [
        "### Lektion 2.2.1: Operatoren\n",
        "Neben der Addition kann ein String auch multipliziert werden. \n",
        "\n"
      ]
    },
    {
      "cell_type": "markdown",
      "metadata": {
        "id": "1WAGXBZF2ttK",
        "colab_type": "text"
      },
      "source": [
        "**Frage:** \\\\\n",
        "Was passiert wenn ein String mit einer bestimmten Zahl multipliziert wird? Kann ein String auch mit sich selbst multipliziert werden?"
      ]
    },
    {
      "cell_type": "code",
      "metadata": {
        "id": "8DM9c0ib1maQ",
        "colab_type": "code",
        "colab": {}
      },
      "source": [
        "wort = \"Terminologie\"\n",
        "print(wort * 5)"
      ],
      "execution_count": 0,
      "outputs": []
    },
    {
      "cell_type": "markdown",
      "metadata": {
        "id": "jc16DlAJws4Y",
        "colab_type": "text"
      },
      "source": [
        "**Aufgabe:** \\\\\n",
        "Welche dieser Vergleichsoperatoren kann auch sinnvoll auf Text angewandt werden?  Testen Sie Ihre Annahme in der nachstehenden Code-Zelle."
      ]
    },
    {
      "cell_type": "code",
      "metadata": {
        "id": "v9rwuzkTxAFI",
        "colab_type": "code",
        "colab": {}
      },
      "source": [
        "text1 = \"Banane\"\n",
        "text2 = \"Apfel\"\n",
        "\n",
        "print(\"text1 == text2 \", text1 == text2)\n",
        "print(\"text1 != text2 \", text1 != text2)\n",
        "print(\"text1 > text2 \", text1 > text2)\n",
        "print(\"text1 < text2 \", text1 < text2)\n",
        "print(\"text1 >= text2 \", text1 >= text2)\n",
        "print(\"text1 <= text2 \", text1 <= text2)"
      ],
      "execution_count": 0,
      "outputs": []
    },
    {
      "cell_type": "markdown",
      "metadata": {
        "id": "Y728FrvP_P8l",
        "colab_type": "text"
      },
      "source": [
        "**Aufgabe:** \\\\\n",
        "Sehen Sie sich den nachstehende Code an und führen Sie in aus. Sie werden eine Fehlermeldung erhalten. Wie kann der Fehler behoben werden? (Welche Zeile muss verändert / gelöscht werden?)"
      ]
    },
    {
      "cell_type": "code",
      "metadata": {
        "id": "vqfkdASU_O77",
        "colab_type": "code",
        "colab": {}
      },
      "source": [
        "x = 1\n",
        "y = 2\n",
        "first = \"first\"\n",
        "print(x + y + 1) \n",
        "print(x + y + first)\n",
        "print(first, x, y)"
      ],
      "execution_count": 0,
      "outputs": []
    },
    {
      "cell_type": "markdown",
      "metadata": {
        "id": "KelQgI9X6Nbu",
        "colab_type": "text"
      },
      "source": [
        "## Lektion 2.3: Listen\n",
        "\n",
        "Im Gegensatz zu Zahlen und Strings, kann eine Liste mehrere Elemente speichern. "
      ]
    },
    {
      "cell_type": "code",
      "metadata": {
        "id": "gHKTeqGf6cIz",
        "colab_type": "code",
        "colab": {}
      },
      "source": [
        "my_string = \"Programmieren für ÜbersetzerInnen\"\n",
        "my_list = [\"Programmieren für ÜbersetzerInnen\", \"Freitag\", \"Februar\", \"Gymnasiumstraße\"]\n",
        "print(my_string)\n",
        "print(my_list)"
      ],
      "execution_count": 0,
      "outputs": []
    },
    {
      "cell_type": "markdown",
      "metadata": {
        "id": "eicUl8Db6x97",
        "colab_type": "text"
      },
      "source": [
        "Listen sind ebenso wie Strings indiziert, d. h. bestimmte Positionen einer Liste können direkt angesprochen werden. Auch wie bei Srtings beginnen wir hier mit 0 zu zählen."
      ]
    },
    {
      "cell_type": "code",
      "metadata": {
        "id": "3Z22L6S165_x",
        "colab_type": "code",
        "colab": {}
      },
      "source": [
        "print(my_list[0])"
      ],
      "execution_count": 0,
      "outputs": []
    },
    {
      "cell_type": "markdown",
      "metadata": {
        "id": "av8FobVD7Aty",
        "colab_type": "text"
      },
      "source": [
        "**Aufgabe** \\\\\n",
        "Geben Sie das Element \"Freitag\" aus der Liste `my_list` aus indem Sie den Index in Klammern von `0` auf den richtigen Index ändern:"
      ]
    },
    {
      "cell_type": "code",
      "metadata": {
        "id": "sg1VcA7B7MwL",
        "colab_type": "code",
        "colab": {}
      },
      "source": [
        "print(my_list[0])"
      ],
      "execution_count": 0,
      "outputs": []
    },
    {
      "cell_type": "markdown",
      "metadata": {
        "id": "FbEIWkNz7NzH",
        "colab_type": "text"
      },
      "source": [
        "**Aufgabe** \\\\\n",
        "Geben Sie die Liste `my_list` insgesamt drei Mal aus ohne die Variable öfter als einmal in den Code zu schreiben. "
      ]
    },
    {
      "cell_type": "code",
      "metadata": {
        "id": "GHgOx7mu7cUt",
        "colab_type": "code",
        "colab": {}
      },
      "source": [
        "# Wie kann my_list drei Mal ausgegeben werden ohne die Variable zu wiederholen?\n",
        "print(my_list)"
      ],
      "execution_count": 0,
      "outputs": []
    },
    {
      "cell_type": "markdown",
      "metadata": {
        "id": "QEXrJ79d7ohc",
        "colab_type": "text"
      },
      "source": [
        "Listen können auch verschiedene Datentypen kombinieren:"
      ]
    },
    {
      "cell_type": "code",
      "metadata": {
        "id": "7a7_sM1H7sA3",
        "colab_type": "code",
        "colab": {}
      },
      "source": [
        "my_mixed_list = [\"Programmieren für ÜbersetzerInnen\", \"Freitag\", \"Februar\", 14, 2020, \"Gymnasiumstraße\", 50, True]\n",
        "print(my_mixed_list)"
      ],
      "execution_count": 0,
      "outputs": []
    },
    {
      "cell_type": "markdown",
      "metadata": {
        "id": "ocpRreTN7-3a",
        "colab_type": "text"
      },
      "source": [
        "Es ist möglich einer Liste Elemente hinzuzufügen durch Verwendung der Funktion `append()` wobei in Klammern das anzuhängenden Element (hier die Zahl 0) angegeben wird. \n",
        "\n",
        "Die Funktion `len()` gibt die Länge - also die Anzahl der Listenelement bzw. die Anzahl der Buchstaben - der Variable, die ihr in Klammern übergeben wird, wieder. "
      ]
    },
    {
      "cell_type": "code",
      "metadata": {
        "id": "8Pcal1Ff8E3W",
        "colab_type": "code",
        "colab": {
          "base_uri": "https://localhost:8080/",
          "height": 69
        },
        "outputId": "40a61624-6809-4a82-cc80-4e8f2f7262d4"
      },
      "source": [
        "# Die Zahl 0 hinzufügen\n",
        "my_mixed_list.append(0)\n",
        "print(my_mixed_list)\n",
        "\n",
        "# Die Länge der Liste ausgeben \n",
        "print(\"Länge von my_mixed_list: \", len(my_mixed_list))\n",
        "\n",
        "# Funktioniert auch auf strings \n",
        "print(\"Länge von mein String: \", len(my_string))"
      ],
      "execution_count": 105,
      "outputs": [
        {
          "output_type": "stream",
          "text": [
            "['Programmieren für ÜbersetzerInnen', 'Freitag', 'Februar', 14, 2020, 'Gymnasiumstraße', 0]\n",
            "Länge von my_mixed_list:  7\n",
            "Länge von mein String:  33\n"
          ],
          "name": "stdout"
        }
      ]
    },
    {
      "cell_type": "markdown",
      "metadata": {
        "id": "ivipNozYsOkw",
        "colab_type": "text"
      },
      "source": [
        "Weiters können Elemente aus Listen mithilfe der Funktion `del` und dem Listennamen[Index] entfernt werden."
      ]
    },
    {
      "cell_type": "code",
      "metadata": {
        "id": "NQfZ8HbG8YWu",
        "colab_type": "code",
        "colab": {}
      },
      "source": [
        "# Das Element auf Position 6 entfernen  \n",
        "del my_mixed_list[6]\n",
        "print(my_mixed_list)\n",
        "\n",
        "# Die Länge der Liste ausgeben \n",
        "print(\"Länge von my_mixed_list: \", len(my_mixed_list))"
      ],
      "execution_count": 0,
      "outputs": []
    },
    {
      "cell_type": "markdown",
      "metadata": {
        "id": "h_cHVGubsqhC",
        "colab_type": "text"
      },
      "source": [
        "**Aufgabe:** \\\\\n",
        "Fügen Sie der nachstehenden Liste das Element \"Apfel\" hinzu und löschen Sie das Element \"Banane\". Wie viele Elemente hat die Liste (bitte ausgeben lassen und nicht manuell abzählen)?"
      ]
    },
    {
      "cell_type": "code",
      "metadata": {
        "id": "KR6gR-4ptFDB",
        "colab_type": "code",
        "colab": {}
      },
      "source": [
        "test_list = [\"Pfirsich\", \"Kiwi\", \"Mango\", \"Ananas\", \"Banane\"]\n",
        "\n",
        "print(\"Länge:\")"
      ],
      "execution_count": 0,
      "outputs": []
    }
  ]
}