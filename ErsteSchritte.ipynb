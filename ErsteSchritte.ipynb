{
  "nbformat": 4,
  "nbformat_minor": 0,
  "metadata": {
    "colab": {
      "name": "ErsteSchritte.ipynb",
      "provenance": [],
      "collapsed_sections": [],
      "include_colab_link": true
    },
    "kernelspec": {
      "name": "python3",
      "display_name": "Python 3"
    }
  },
  "cells": [
    {
      "cell_type": "markdown",
      "metadata": {
        "id": "view-in-github",
        "colab_type": "text"
      },
      "source": [
        "<a href=\"https://colab.research.google.com/github/dgromann/ProgrammingForTranslators/blob/master/ErsteSchritte.ipynb\" target=\"_parent\"><img src=\"https://colab.research.google.com/assets/colab-badge.svg\" alt=\"Open In Colab\"/></a>"
      ]
    },
    {
      "cell_type": "markdown",
      "metadata": {
        "id": "BcnUc0sL9433",
        "colab_type": "text"
      },
      "source": [
        "##Programmieren für ÜbersetzerInnen\n",
        "\n",
        "Dieses Notebook bietet einige interaktive Programmierübungen für Ihre ersten Schritte in der Welt des Programmierens. Diese Umbegung wurde eigens für diesen Workshop angelegt. \n",
        "\n",
        "Wenn Sie den nachfolgenden Code auf Ihrem eigenen Windows-Computer zuhause ausführen möchten, folgen Sie bitte den Anweisungen in der Datei \"Windows-Programmierumgebung\". Selbstverständlich können Sie auch von zuhause in dieser Umgebung weiter üben - Sie können diese Umgebung in jedem Browser starten. "
      ]
    },
    {
      "cell_type": "markdown",
      "metadata": {
        "id": "naqT4gwM2X92",
        "colab_type": "text"
      },
      "source": [
        "### Warum programmieren?\n",
        "Damit kann man \"langweilige\" Aufgaben automatisieren, wie etwa suche nach Kollokationen in Text oder "
      ]
    },
    {
      "cell_type": "markdown",
      "metadata": {
        "id": "5kHcoh1Y1ybd",
        "colab_type": "text"
      },
      "source": [
        "### Warum Python?\n",
        "\n",
        "Es gibt viele verscheidenen Programmiersprachen. Warum also sollte man also Python lernen? \n",
        "\n",
        "\n",
        "*   *Leicht zu lernen*: eine der einfachsten Programmiersprachen für absolute Anfänger - auch auf diesem Prinzip erstellt\n",
        "*   *Stark nachgefragt*: großer Bedarf an Python-Softwareentwicklern am Markt\n",
        "*   *Weit verbreitet*: Python wird am häufigsten für maschinelles Lernen, inklusive maschineller Übersetzung, Natural Language Processing (NLP) und künstliche Intelligenz im Allgemeinen eingesetzt \n",
        "*   *Große Gemeinschaft*: je mehr Programmierer es gibt, desto mehr Hilfestellungen findet man in Online-Gemeinschaften und -Foren. Es gibt beinahe kein Problem in Python, für das nicht schon online eine Lösung gefunden wurde.\n",
        "\n",
        "Daher ist Python eine sehr attraktive Programmiersprache für SprachexpertInnen. "
      ]
    },
    {
      "cell_type": "markdown",
      "metadata": {
        "id": "5ZwBNTy66egw",
        "colab_type": "text"
      },
      "source": [
        "# Hallo Welt!\n",
        "\n",
        "In der Welt der Programmierer ist es eine lange Tradition als erste Aufgabe in der neuen Sprache \"Hello World!\" auf dem Bildschirm anzeigen zu lassen. \n",
        "\n",
        "Der folgende Befehl macht genau das wonach er klingt, er gibt den Text innerhalb der Klammern am Bildschirm aus: \n",
        "\n",
        "\n",
        "```\n",
        "print(\"Hello World!\")\n",
        "```\n",
        "\n",
        "Die nachstehende graue Zelle ist eine Code-Zelle. Das heißt der darin enthaltene Programmiercode kann vom Computer ausgeführt werden. Code muss nicht nur geschrieben, sondern auch ausgeführt werden. In unserer Workshopumgebung machen Sie dass, indem Sie auf die die Maus in die graue Zelle bewegen und auf die Schaltfläche &#9658; klicken. \n",
        "\n",
        "**Frage:**\n",
        "Fragen und praktische Aufgaben werden hier mit **Frage** bzw. **Aufgabe** gekennzeichnet. Was passiert wenn Sie den nachstehenden Code ausführen?\n"
      ]
    },
    {
      "cell_type": "code",
      "metadata": {
        "id": "pZGmc5wD7RUz",
        "colab_type": "code",
        "colab": {}
      },
      "source": [
        "print(\"Welcome to Python!\")"
      ],
      "execution_count": 0,
      "outputs": []
    },
    {
      "cell_type": "markdown",
      "metadata": {
        "id": "AbTrd68A-8c8",
        "colab_type": "text"
      },
      "source": [
        "**Aufgabe**\n",
        "Führen Sie den nachstehenden Code aus. Sie werden eine Fehlermeldung erhalten (EOL = End of Line, also Zeilenende). Was muss an der Codezeile geändert werden um den Fehler zu beheben? "
      ]
    },
    {
      "cell_type": "code",
      "metadata": {
        "id": "icSvQlSA-NUi",
        "colab_type": "code",
        "colab": {}
      },
      "source": [
        "print(\"Hello World!"
      ],
      "execution_count": 0,
      "outputs": []
    },
    {
      "cell_type": "markdown",
      "metadata": {
        "id": "QOvb9Vy1-NYU",
        "colab_type": "text"
      },
      "source": [
        "# Tokenization\n",
        "Next, we will import the SpaCy library to python and give it a first statement to tokenize. "
      ]
    },
    {
      "cell_type": "code",
      "metadata": {
        "id": "a440aXyf-XdN",
        "colab_type": "code",
        "colab": {}
      },
      "source": [
        "import spacy\n",
        "nlp = spacy.load('en_core_web_sm')\n",
        "doc = nlp(\"Welcome to the NLP pipeline in SpaCy!\")\n",
        "for token in doc:\n",
        "    print('\"' + token.text + '\"', token.idx)\n",
        " "
      ],
      "execution_count": 0,
      "outputs": []
    },
    {
      "cell_type": "markdown",
      "metadata": {
        "id": "Cktd3je2-rZ5",
        "colab_type": "text"
      },
      "source": [
        "# Sentence detection\n",
        "\n",
        "We can also detect individual sentences in a longer text. The good thing about NLTK is that it comes with a number of preprocessed and cleaned corpora, such as the Brown corpus. "
      ]
    },
    {
      "cell_type": "code",
      "metadata": {
        "id": "hCr0HhF0-qo8",
        "colab_type": "code",
        "colab": {}
      },
      "source": [
        "import nltk\n",
        "#only for the first time\n",
        "nltk.download('gutenberg')\n",
        "from nltk.corpus import gutenberg as gutenberg\n",
        "\n",
        "gutenberg.fileids()"
      ],
      "execution_count": 0,
      "outputs": []
    },
    {
      "cell_type": "code",
      "metadata": {
        "id": "TSx4iqinAR86",
        "colab_type": "code",
        "colab": {}
      },
      "source": [
        "excerpt = gutenberg.raw('austen-sense.txt')[0:1000]\n",
        "print(excerpt)"
      ],
      "execution_count": 0,
      "outputs": []
    },
    {
      "cell_type": "code",
      "metadata": {
        "id": "dsZHxK2kB7fx",
        "colab_type": "code",
        "colab": {}
      },
      "source": [
        "processed_text = nlp(excerpt)\n",
        "for sent in processed_text.sents: \n",
        "  print(sent)"
      ],
      "execution_count": 0,
      "outputs": []
    },
    {
      "cell_type": "markdown",
      "metadata": {
        "id": "S_NUxbObDqPO",
        "colab_type": "text"
      },
      "source": [
        "# POS Tagging\n",
        "\n",
        "Part-of-speech tagging is the process of identifying word classes for each individual word. \n",
        "\n",
        "For instance \"NN\" refers to a noun singular, \"CC\" denotes a coordination, etc. The whole collection of highly conventional tags can be found in the [Penn Treebank listing](https://www.ling.upenn.edu/courses/Fall_2003/ling001/penn_treebank_pos.html). "
      ]
    },
    {
      "cell_type": "code",
      "metadata": {
        "id": "-Vn3jvSEDr4y",
        "colab_type": "code",
        "colab": {}
      },
      "source": [
        "print([(token.text, token.tag_) for token in processed_text])"
      ],
      "execution_count": 0,
      "outputs": []
    },
    {
      "cell_type": "markdown",
      "metadata": {
        "id": "gcr9FOK-EXN1",
        "colab_type": "text"
      },
      "source": [
        "Which process is the following? Which elements of the text are being extracted?\n",
        "\n",
        "GPE, for instance, denotes geopolitical entity, FAC refers to \"Buildings, airports, highways, bridges, etc.\""
      ]
    },
    {
      "cell_type": "code",
      "metadata": {
        "id": "hYORqBbeEWcA",
        "colab_type": "code",
        "colab": {}
      },
      "source": [
        "for ent in processed_text.ents:\n",
        "    print(ent.text, ent.label_)\n"
      ],
      "execution_count": 0,
      "outputs": []
    },
    {
      "cell_type": "markdown",
      "metadata": {
        "id": "02se4DGqFiJi",
        "colab_type": "text"
      },
      "source": [
        "And its visual representation:"
      ]
    },
    {
      "cell_type": "code",
      "metadata": {
        "id": "4ND9kb0FFcIF",
        "colab_type": "code",
        "colab": {}
      },
      "source": [
        "from spacy import displacy\n",
        "displacy.render(processed_text, style='ent', jupyter=True)"
      ],
      "execution_count": 0,
      "outputs": []
    },
    {
      "cell_type": "markdown",
      "metadata": {
        "id": "vWNSjhIdFpst",
        "colab_type": "text"
      },
      "source": [
        "# Dependency Parsing \n",
        "\n",
        "What can we learn from dependency parsing?"
      ]
    },
    {
      "cell_type": "code",
      "metadata": {
        "id": "1v3gZMOpFtwY",
        "colab_type": "code",
        "colab": {}
      },
      "source": [
        "displacy.render(processed_text[13:24], style='dep', jupyter=True, options={'distance': 90})"
      ],
      "execution_count": 0,
      "outputs": []
    }
  ]
}