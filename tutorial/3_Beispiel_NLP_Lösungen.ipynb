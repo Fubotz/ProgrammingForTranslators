{
  "nbformat": 4,
  "nbformat_minor": 0,
  "metadata": {
    "colab": {
      "name": "3_Beispiel_NLP.ipynb",
      "provenance": [],
      "collapsed_sections": []
    },
    "kernelspec": {
      "name": "python3",
      "display_name": "Python 3"
    }
  },
  "cells": [
    {
      "cell_type": "markdown",
      "metadata": {
        "id": "sRFg2iThENEV",
        "colab_type": "text"
      },
      "source": [
        "# Programmieren für ÜbersetzerInnen - Beispiel NLP\n",
        "\n",
        "NLP steht für Natural Language Processing (NLP) und stellt in allen Übersetzungs-, Konkordanz-, und Termextraktionstools meist wichtige Verarbeitungsschritte zur Verfügung. \n",
        "\n",
        "Typische NLP-Schritte sind: \n",
        "\n",
        "\n",
        "*   Kleinschreibung: um eine bessere Vergleichbarkeit von Texten zu erreichen wird oft der gesamte Text in eine Kleinschreibweise umgewandelt\n",
        "*   Tokenisierung: Trennen von längeren Sequenzen in einzelnen Elemente, z. B. Wörter und Interpunktion \n",
        "*   Lemmatisierung: Trennen von längeren Sequenzen in einzelnen Elemente, z. B. Wörter und Interprunktion \n",
        "*   POS-Tagging: Automatisches Erkennen von Wortklassen \n",
        "*   Stoppwort-Entfernung: Häufig werden Worte die wenig semantisches Gewicht für den Inhalt des Textes haben, aber sehr häufig auftreten, z. B. Pronomen, Artikel, Präpositionen, etc. entfernt\n",
        "\n",
        "\n"
      ]
    },
    {
      "cell_type": "code",
      "metadata": {
        "id": "lbeC_nBuEjS6",
        "colab_type": "code",
        "colab": {}
      },
      "source": [
        "# Unser Beispielsatz\n",
        "sentence = \"Die Bürsten mit den schwarzen Borsten bürsten besser, als die Bürsten mit den weißen Borsten bürsten!\" "
      ],
      "execution_count": 0,
      "outputs": []
    },
    {
      "cell_type": "markdown",
      "metadata": {
        "id": "L2YZKNZU0cRI",
        "colab_type": "text"
      },
      "source": [
        "Um das Rad nicht neu zu erfinden und nicht all diese Funktionen selbst zu schreiben, verwenden wir wo verfügbar vordefinierte Funktionen. Vordefinierte Funktionen in Python können einfach so wie eine selbstdefinierte Funktion verwendet werden. \n",
        "\n",
        "Für alle Funktionen, die aus einer Funktionssammlung, einer sogenannten Bibliothek (library) kommen, muss die entsprechende Bibliothek noch installiert und in das jeweilige Programm (hier Notebook) importiert werden. \n",
        "\n",
        "Wir verwenden hier heute die Bibliothek SpaCy (https://spacy.io/api), da diese im Gegensatz zu vielen anderen Bibliotheken eine gute Unterstützung der deutschen Sprache bietet. Eine Installattionsanleitung für zuhause ist hier zu finden: https://spacy.io/usage \n",
        "\n"
      ]
    },
    {
      "cell_type": "code",
      "metadata": {
        "id": "CtRLD-f3XMdm",
        "colab_type": "code",
        "outputId": "38b00a85-af26-466c-b116-59afd6b9be76",
        "colab": {
          "base_uri": "https://localhost:8080/",
          "height": 1000
        }
      },
      "source": [
        "# spaCy in Colab/Binder installieren - für Anaconda siehe spacy Installatiosnanweisungen\n",
        "!pip install -U spacy\n",
        "!python -m spacy download en_core_web_sm\n",
        "!python -m spacy download de_core_news_sm"
      ],
      "execution_count": 0,
      "outputs": [
        {
          "output_type": "stream",
          "text": [
            "Requirement already up-to-date: spacy in /usr/local/lib/python3.6/dist-packages (2.2.3)\n",
            "Requirement already satisfied, skipping upgrade: cymem<2.1.0,>=2.0.2 in /usr/local/lib/python3.6/dist-packages (from spacy) (2.0.3)\n",
            "Requirement already satisfied, skipping upgrade: murmurhash<1.1.0,>=0.28.0 in /usr/local/lib/python3.6/dist-packages (from spacy) (1.0.2)\n",
            "Requirement already satisfied, skipping upgrade: wasabi<1.1.0,>=0.4.0 in /usr/local/lib/python3.6/dist-packages (from spacy) (0.6.0)\n",
            "Requirement already satisfied, skipping upgrade: requests<3.0.0,>=2.13.0 in /usr/local/lib/python3.6/dist-packages (from spacy) (2.21.0)\n",
            "Requirement already satisfied, skipping upgrade: srsly<1.1.0,>=0.1.0 in /usr/local/lib/python3.6/dist-packages (from spacy) (1.0.1)\n",
            "Requirement already satisfied, skipping upgrade: plac<1.2.0,>=0.9.6 in /usr/local/lib/python3.6/dist-packages (from spacy) (0.9.6)\n",
            "Requirement already satisfied, skipping upgrade: preshed<3.1.0,>=3.0.2 in /usr/local/lib/python3.6/dist-packages (from spacy) (3.0.2)\n",
            "Requirement already satisfied, skipping upgrade: setuptools in /usr/local/lib/python3.6/dist-packages (from spacy) (45.1.0)\n",
            "Requirement already satisfied, skipping upgrade: thinc<7.4.0,>=7.3.0 in /usr/local/lib/python3.6/dist-packages (from spacy) (7.3.1)\n",
            "Requirement already satisfied, skipping upgrade: numpy>=1.15.0 in /usr/local/lib/python3.6/dist-packages (from spacy) (1.17.5)\n",
            "Requirement already satisfied, skipping upgrade: blis<0.5.0,>=0.4.0 in /usr/local/lib/python3.6/dist-packages (from spacy) (0.4.1)\n",
            "Requirement already satisfied, skipping upgrade: catalogue<1.1.0,>=0.0.7 in /usr/local/lib/python3.6/dist-packages (from spacy) (1.0.0)\n",
            "Requirement already satisfied, skipping upgrade: urllib3<1.25,>=1.21.1 in /usr/local/lib/python3.6/dist-packages (from requests<3.0.0,>=2.13.0->spacy) (1.24.3)\n",
            "Requirement already satisfied, skipping upgrade: certifi>=2017.4.17 in /usr/local/lib/python3.6/dist-packages (from requests<3.0.0,>=2.13.0->spacy) (2019.11.28)\n",
            "Requirement already satisfied, skipping upgrade: idna<2.9,>=2.5 in /usr/local/lib/python3.6/dist-packages (from requests<3.0.0,>=2.13.0->spacy) (2.8)\n",
            "Requirement already satisfied, skipping upgrade: chardet<3.1.0,>=3.0.2 in /usr/local/lib/python3.6/dist-packages (from requests<3.0.0,>=2.13.0->spacy) (3.0.4)\n",
            "Requirement already satisfied, skipping upgrade: tqdm<5.0.0,>=4.10.0 in /usr/local/lib/python3.6/dist-packages (from thinc<7.4.0,>=7.3.0->spacy) (4.28.1)\n",
            "Requirement already satisfied, skipping upgrade: importlib-metadata>=0.20; python_version < \"3.8\" in /usr/local/lib/python3.6/dist-packages (from catalogue<1.1.0,>=0.0.7->spacy) (1.5.0)\n",
            "Requirement already satisfied, skipping upgrade: zipp>=0.5 in /usr/local/lib/python3.6/dist-packages (from importlib-metadata>=0.20; python_version < \"3.8\"->catalogue<1.1.0,>=0.0.7->spacy) (3.0.0)\n",
            "Requirement already satisfied: en_core_web_sm==2.2.5 from https://github.com/explosion/spacy-models/releases/download/en_core_web_sm-2.2.5/en_core_web_sm-2.2.5.tar.gz#egg=en_core_web_sm==2.2.5 in /usr/local/lib/python3.6/dist-packages (2.2.5)\n",
            "Requirement already satisfied: spacy>=2.2.2 in /usr/local/lib/python3.6/dist-packages (from en_core_web_sm==2.2.5) (2.2.3)\n",
            "Requirement already satisfied: numpy>=1.15.0 in /usr/local/lib/python3.6/dist-packages (from spacy>=2.2.2->en_core_web_sm==2.2.5) (1.17.5)\n",
            "Requirement already satisfied: blis<0.5.0,>=0.4.0 in /usr/local/lib/python3.6/dist-packages (from spacy>=2.2.2->en_core_web_sm==2.2.5) (0.4.1)\n",
            "Requirement already satisfied: setuptools in /usr/local/lib/python3.6/dist-packages (from spacy>=2.2.2->en_core_web_sm==2.2.5) (45.1.0)\n",
            "Requirement already satisfied: catalogue<1.1.0,>=0.0.7 in /usr/local/lib/python3.6/dist-packages (from spacy>=2.2.2->en_core_web_sm==2.2.5) (1.0.0)\n",
            "Requirement already satisfied: cymem<2.1.0,>=2.0.2 in /usr/local/lib/python3.6/dist-packages (from spacy>=2.2.2->en_core_web_sm==2.2.5) (2.0.3)\n",
            "Requirement already satisfied: requests<3.0.0,>=2.13.0 in /usr/local/lib/python3.6/dist-packages (from spacy>=2.2.2->en_core_web_sm==2.2.5) (2.21.0)\n",
            "Requirement already satisfied: murmurhash<1.1.0,>=0.28.0 in /usr/local/lib/python3.6/dist-packages (from spacy>=2.2.2->en_core_web_sm==2.2.5) (1.0.2)\n",
            "Requirement already satisfied: preshed<3.1.0,>=3.0.2 in /usr/local/lib/python3.6/dist-packages (from spacy>=2.2.2->en_core_web_sm==2.2.5) (3.0.2)\n",
            "Requirement already satisfied: wasabi<1.1.0,>=0.4.0 in /usr/local/lib/python3.6/dist-packages (from spacy>=2.2.2->en_core_web_sm==2.2.5) (0.6.0)\n",
            "Requirement already satisfied: srsly<1.1.0,>=0.1.0 in /usr/local/lib/python3.6/dist-packages (from spacy>=2.2.2->en_core_web_sm==2.2.5) (1.0.1)\n",
            "Requirement already satisfied: plac<1.2.0,>=0.9.6 in /usr/local/lib/python3.6/dist-packages (from spacy>=2.2.2->en_core_web_sm==2.2.5) (0.9.6)\n",
            "Requirement already satisfied: thinc<7.4.0,>=7.3.0 in /usr/local/lib/python3.6/dist-packages (from spacy>=2.2.2->en_core_web_sm==2.2.5) (7.3.1)\n",
            "Requirement already satisfied: importlib-metadata>=0.20; python_version < \"3.8\" in /usr/local/lib/python3.6/dist-packages (from catalogue<1.1.0,>=0.0.7->spacy>=2.2.2->en_core_web_sm==2.2.5) (1.5.0)\n",
            "Requirement already satisfied: idna<2.9,>=2.5 in /usr/local/lib/python3.6/dist-packages (from requests<3.0.0,>=2.13.0->spacy>=2.2.2->en_core_web_sm==2.2.5) (2.8)\n",
            "Requirement already satisfied: chardet<3.1.0,>=3.0.2 in /usr/local/lib/python3.6/dist-packages (from requests<3.0.0,>=2.13.0->spacy>=2.2.2->en_core_web_sm==2.2.5) (3.0.4)\n",
            "Requirement already satisfied: urllib3<1.25,>=1.21.1 in /usr/local/lib/python3.6/dist-packages (from requests<3.0.0,>=2.13.0->spacy>=2.2.2->en_core_web_sm==2.2.5) (1.24.3)\n",
            "Requirement already satisfied: certifi>=2017.4.17 in /usr/local/lib/python3.6/dist-packages (from requests<3.0.0,>=2.13.0->spacy>=2.2.2->en_core_web_sm==2.2.5) (2019.11.28)\n",
            "Requirement already satisfied: tqdm<5.0.0,>=4.10.0 in /usr/local/lib/python3.6/dist-packages (from thinc<7.4.0,>=7.3.0->spacy>=2.2.2->en_core_web_sm==2.2.5) (4.28.1)\n",
            "Requirement already satisfied: zipp>=0.5 in /usr/local/lib/python3.6/dist-packages (from importlib-metadata>=0.20; python_version < \"3.8\"->catalogue<1.1.0,>=0.0.7->spacy>=2.2.2->en_core_web_sm==2.2.5) (3.0.0)\n",
            "\u001b[38;5;2m✔ Download and installation successful\u001b[0m\n",
            "You can now load the model via spacy.load('en_core_web_sm')\n",
            "\u001b[38;5;2m✔ Linking successful\u001b[0m\n",
            "/usr/local/lib/python3.6/dist-packages/en_core_web_sm -->\n",
            "/usr/local/lib/python3.6/dist-packages/spacy/data/en\n",
            "You can now load the model via spacy.load('en')\n",
            "Requirement already satisfied: de_core_news_sm==2.2.5 from https://github.com/explosion/spacy-models/releases/download/de_core_news_sm-2.2.5/de_core_news_sm-2.2.5.tar.gz#egg=de_core_news_sm==2.2.5 in /usr/local/lib/python3.6/dist-packages (2.2.5)\n",
            "Requirement already satisfied: spacy>=2.2.2 in /usr/local/lib/python3.6/dist-packages (from de_core_news_sm==2.2.5) (2.2.3)\n",
            "Requirement already satisfied: plac<1.2.0,>=0.9.6 in /usr/local/lib/python3.6/dist-packages (from spacy>=2.2.2->de_core_news_sm==2.2.5) (0.9.6)\n",
            "Requirement already satisfied: requests<3.0.0,>=2.13.0 in /usr/local/lib/python3.6/dist-packages (from spacy>=2.2.2->de_core_news_sm==2.2.5) (2.21.0)\n",
            "Requirement already satisfied: thinc<7.4.0,>=7.3.0 in /usr/local/lib/python3.6/dist-packages (from spacy>=2.2.2->de_core_news_sm==2.2.5) (7.3.1)\n",
            "Requirement already satisfied: wasabi<1.1.0,>=0.4.0 in /usr/local/lib/python3.6/dist-packages (from spacy>=2.2.2->de_core_news_sm==2.2.5) (0.6.0)\n",
            "Requirement already satisfied: cymem<2.1.0,>=2.0.2 in /usr/local/lib/python3.6/dist-packages (from spacy>=2.2.2->de_core_news_sm==2.2.5) (2.0.3)\n",
            "Requirement already satisfied: preshed<3.1.0,>=3.0.2 in /usr/local/lib/python3.6/dist-packages (from spacy>=2.2.2->de_core_news_sm==2.2.5) (3.0.2)\n",
            "Requirement already satisfied: catalogue<1.1.0,>=0.0.7 in /usr/local/lib/python3.6/dist-packages (from spacy>=2.2.2->de_core_news_sm==2.2.5) (1.0.0)\n",
            "Requirement already satisfied: setuptools in /usr/local/lib/python3.6/dist-packages (from spacy>=2.2.2->de_core_news_sm==2.2.5) (45.1.0)\n",
            "Requirement already satisfied: murmurhash<1.1.0,>=0.28.0 in /usr/local/lib/python3.6/dist-packages (from spacy>=2.2.2->de_core_news_sm==2.2.5) (1.0.2)\n",
            "Requirement already satisfied: numpy>=1.15.0 in /usr/local/lib/python3.6/dist-packages (from spacy>=2.2.2->de_core_news_sm==2.2.5) (1.17.5)\n",
            "Requirement already satisfied: blis<0.5.0,>=0.4.0 in /usr/local/lib/python3.6/dist-packages (from spacy>=2.2.2->de_core_news_sm==2.2.5) (0.4.1)\n",
            "Requirement already satisfied: srsly<1.1.0,>=0.1.0 in /usr/local/lib/python3.6/dist-packages (from spacy>=2.2.2->de_core_news_sm==2.2.5) (1.0.1)\n",
            "Requirement already satisfied: certifi>=2017.4.17 in /usr/local/lib/python3.6/dist-packages (from requests<3.0.0,>=2.13.0->spacy>=2.2.2->de_core_news_sm==2.2.5) (2019.11.28)\n",
            "Requirement already satisfied: urllib3<1.25,>=1.21.1 in /usr/local/lib/python3.6/dist-packages (from requests<3.0.0,>=2.13.0->spacy>=2.2.2->de_core_news_sm==2.2.5) (1.24.3)\n",
            "Requirement already satisfied: idna<2.9,>=2.5 in /usr/local/lib/python3.6/dist-packages (from requests<3.0.0,>=2.13.0->spacy>=2.2.2->de_core_news_sm==2.2.5) (2.8)\n",
            "Requirement already satisfied: chardet<3.1.0,>=3.0.2 in /usr/local/lib/python3.6/dist-packages (from requests<3.0.0,>=2.13.0->spacy>=2.2.2->de_core_news_sm==2.2.5) (3.0.4)\n",
            "Requirement already satisfied: tqdm<5.0.0,>=4.10.0 in /usr/local/lib/python3.6/dist-packages (from thinc<7.4.0,>=7.3.0->spacy>=2.2.2->de_core_news_sm==2.2.5) (4.28.1)\n",
            "Requirement already satisfied: importlib-metadata>=0.20; python_version < \"3.8\" in /usr/local/lib/python3.6/dist-packages (from catalogue<1.1.0,>=0.0.7->spacy>=2.2.2->de_core_news_sm==2.2.5) (1.5.0)\n",
            "Requirement already satisfied: zipp>=0.5 in /usr/local/lib/python3.6/dist-packages (from importlib-metadata>=0.20; python_version < \"3.8\"->catalogue<1.1.0,>=0.0.7->spacy>=2.2.2->de_core_news_sm==2.2.5) (3.0.0)\n",
            "\u001b[38;5;2m✔ Download and installation successful\u001b[0m\n",
            "You can now load the model via spacy.load('de_core_news_sm')\n",
            "\u001b[38;5;2m✔ Linking successful\u001b[0m\n",
            "/usr/local/lib/python3.6/dist-packages/de_core_news_sm -->\n",
            "/usr/local/lib/python3.6/dist-packages/spacy/data/de\n",
            "You can now load the model via spacy.load('de')\n"
          ],
          "name": "stdout"
        }
      ]
    },
    {
      "cell_type": "markdown",
      "metadata": {
        "id": "r-sUZnkTp3Hk",
        "colab_type": "text"
      },
      "source": [
        "# Kleinschreiben\n",
        "Der erste Schritt besteht meist darin, alle Worte auf eine Kleinschreibweise zu verwandeln. Dazu kann man die vordefinierte Funktion `lower()` in Python verwenden. Genau wie bei den Funktionen die wir selbst geschrieben haben, dienen die Klammern dazu anzuzeigen, dass es sich um eine Funktion und nicht eine Variable handelt. \n",
        "\n",
        "\n",
        "Eine gute Quelle für die Auflistung aller vordefinierten Funktionen in Python ist die Python Dokumentation: [https://docs.python.org/3/library/functions.html](https://docs.python.org/3/library/functions.html)\n"
      ]
    },
    {
      "cell_type": "code",
      "metadata": {
        "id": "6X0e2ZP4qJvf",
        "colab_type": "code",
        "outputId": "83785678-59f7-4533-e366-4cb2133fbb39",
        "colab": {
          "base_uri": "https://localhost:8080/",
          "height": 34
        }
      },
      "source": [
        "sentence_lower = sentence.lower()\n",
        "print(sentence_lower)"
      ],
      "execution_count": 0,
      "outputs": [
        {
          "output_type": "stream",
          "text": [
            "die bürsten mit den schwarzen borsten bürsten besser, als die bürsten mit den weißen borsten bürsten!\n"
          ],
          "name": "stdout"
        }
      ]
    },
    {
      "cell_type": "markdown",
      "metadata": {
        "id": "yWwvBjdxqrXZ",
        "colab_type": "text"
      },
      "source": [
        "# Tokenisieren\n",
        "\n",
        "Tokenisieren bezieht sich auf die Auftrennung einer längeren Sequenz in einzelne Elemente, z. B. bei einem Satz bedeutet das einzelne Wörter und Interpunktion. \n",
        "\n",
        "\n",
        "\n",
        "\n"
      ]
    },
    {
      "cell_type": "code",
      "metadata": {
        "id": "7pH8wYiqq3YO",
        "colab_type": "code",
        "outputId": "54febabe-05ae-41ca-af31-c99b521a918b",
        "colab": {
          "base_uri": "https://localhost:8080/",
          "height": 1000
        }
      },
      "source": [
        "import spacy \n",
        "\n",
        "nlp = spacy.load('de_core_news_sm')\n",
        "doc = nlp(sentence)\n",
        "\n",
        "# Diese Methode hat den Satz tokenisiert\n",
        "for token in doc: \n",
        "  print(token)\n",
        "\n",
        "# Zum Vergleich hier die Ausgabe wenn man den Originalsatz verwendet \n",
        "for elem in sentence:\n",
        "  print(elem)\n"
      ],
      "execution_count": 0,
      "outputs": [
        {
          "output_type": "stream",
          "text": [
            "Die\n",
            "Bürsten\n",
            "mit\n",
            "den\n",
            "schwarzen\n",
            "Borsten\n",
            "bürsten\n",
            "besser\n",
            ",\n",
            "als\n",
            "die\n",
            "Bürsten\n",
            "mit\n",
            "den\n",
            "weißen\n",
            "Borsten\n",
            "bürsten\n",
            "!\n",
            "D\n",
            "i\n",
            "e\n",
            " \n",
            "B\n",
            "ü\n",
            "r\n",
            "s\n",
            "t\n",
            "e\n",
            "n\n",
            " \n",
            "m\n",
            "i\n",
            "t\n",
            " \n",
            "d\n",
            "e\n",
            "n\n",
            " \n",
            "s\n",
            "c\n",
            "h\n",
            "w\n",
            "a\n",
            "r\n",
            "z\n",
            "e\n",
            "n\n",
            " \n",
            "B\n",
            "o\n",
            "r\n",
            "s\n",
            "t\n",
            "e\n",
            "n\n",
            " \n",
            "b\n",
            "ü\n",
            "r\n",
            "s\n",
            "t\n",
            "e\n",
            "n\n",
            " \n",
            "b\n",
            "e\n",
            "s\n",
            "s\n",
            "e\n",
            "r\n",
            ",\n",
            " \n",
            "a\n",
            "l\n",
            "s\n",
            " \n",
            "d\n",
            "i\n",
            "e\n",
            " \n",
            "B\n",
            "ü\n",
            "r\n",
            "s\n",
            "t\n",
            "e\n",
            "n\n",
            " \n",
            "m\n",
            "i\n",
            "t\n",
            " \n",
            "d\n",
            "e\n",
            "n\n",
            " \n",
            "w\n",
            "e\n",
            "i\n",
            "ß\n",
            "e\n",
            "n\n",
            " \n",
            "B\n",
            "o\n",
            "r\n",
            "s\n",
            "t\n",
            "e\n",
            "n\n",
            " \n",
            "b\n",
            "ü\n",
            "r\n",
            "s\n",
            "t\n",
            "e\n",
            "n\n",
            "!\n"
          ],
          "name": "stdout"
        }
      ]
    },
    {
      "cell_type": "markdown",
      "metadata": {
        "id": "UzdQy5ETFtMq",
        "colab_type": "text"
      },
      "source": [
        "# Lemmatisieren\n",
        "\n",
        "Um Wörter besser vergleichbar zu machen werden sie auf ihre Basisform (nicht immer unbedingt der Stamm, dafür gibt es Stemming) reduziert. spaCy hat das alles schon für uns erledigt durch diesen einen `nlp(sentence)`-Befehl. Anbei geben wir nur noch das Ergebnis aus."
      ]
    },
    {
      "cell_type": "markdown",
      "metadata": {
        "id": "043gV7WyHHyI",
        "colab_type": "text"
      },
      "source": [
        "**Frage:** <br> \n",
        "Worin konkret unterscheidet sich der Ausgangssatz am Anfang dieses Notebooks von der nachstehenden Version? \n"
      ]
    },
    {
      "cell_type": "code",
      "metadata": {
        "id": "q_GpCd5EGb1a",
        "colab_type": "code",
        "outputId": "b8764773-2580-46ff-b41e-e87bb78ae723",
        "colab": {
          "base_uri": "https://localhost:8080/",
          "height": 330
        }
      },
      "source": [
        "from tabulate import tabulate\n",
        "for token in doc: \n",
        "  print(token, token.lemma_)"
      ],
      "execution_count": 0,
      "outputs": [
        {
          "output_type": "stream",
          "text": [
            "Die der\n",
            "Bürsten Bürste\n",
            "mit mit\n",
            "den der\n",
            "schwarzen schwarz\n",
            "Borsten Borste\n",
            "bürsten bürsten\n",
            "besser gut\n",
            ", ,\n",
            "als als\n",
            "die der\n",
            "Bürsten Bürste\n",
            "mit mit\n",
            "den der\n",
            "weißen weiß\n",
            "Borsten Borste\n",
            "bürsten bürsten\n",
            "! !\n"
          ],
          "name": "stdout"
        }
      ]
    },
    {
      "cell_type": "markdown",
      "metadata": {
        "id": "j1p6VegoHmkF",
        "colab_type": "text"
      },
      "source": [
        "**Antwort:** Lemmatisierung, der hier durchgeführte Prozess, konvertiert alle Worte des Satzes in ihre Basisform. "
      ]
    },
    {
      "cell_type": "markdown",
      "metadata": {
        "id": "gUjNbbIUIPdg",
        "colab_type": "text"
      },
      "source": [
        "# Part-of-Speech (POS) Tagging\n",
        "\n",
        "Part-of-Speech (POS) tags sind englische Standardbezeichnungen für Wortklassen, die bei spaCy hier definiert werden: https://spacy.io/api/annotation. In dem nachstehenden Beispiel finden Sie etwa: \n",
        "\n",
        "*   DET = Artikel\n",
        "*   NOUN = Substantiv \n",
        "*   ADP = Präposition\n",
        "*   ADJ = Adjektiv oder Adverb\n",
        "*   VERB = Verb\n",
        "*   PUNCT = Interpunktion\n",
        "\n",
        "Die POS-Tags könenn dazu verwendet werden um bestimmte Wortklassen aus dem Korpus zu entfernen, beispielsweise Interpunktion, Präposittionen, und Artikel. \n"
      ]
    },
    {
      "cell_type": "code",
      "metadata": {
        "id": "-1v4Lo1tIZEb",
        "colab_type": "code",
        "outputId": "0ecb92cc-7eb9-41db-a883-d3034383cf02",
        "colab": {
          "base_uri": "https://localhost:8080/",
          "height": 330
        }
      },
      "source": [
        "for token in doc: \n",
        "  print(token, token.pos_)"
      ],
      "execution_count": 0,
      "outputs": [
        {
          "output_type": "stream",
          "text": [
            "Die DET\n",
            "Bürsten NOUN\n",
            "mit ADP\n",
            "den DET\n",
            "schwarzen ADJ\n",
            "Borsten NOUN\n",
            "bürsten VERB\n",
            "besser ADJ\n",
            ", PUNCT\n",
            "als CCONJ\n",
            "die DET\n",
            "Bürsten NOUN\n",
            "mit ADP\n",
            "den DET\n",
            "weißen ADJ\n",
            "Borsten NOUN\n",
            "bürsten VERB\n",
            "! PUNCT\n"
          ],
          "name": "stdout"
        }
      ]
    },
    {
      "cell_type": "markdown",
      "metadata": {
        "id": "G_qGNLgXJMpL",
        "colab_type": "text"
      },
      "source": [
        "**Aufgabe:** <br>\n",
        "Schreiben Sie eine Funktion, die einen Satz\n",
        "\n",
        "\n",
        "*   in die Kleinschreibweise verwandelt,\n",
        "*   tokenisiert,\n",
        "*   nach POS filtert und alle Präspositionen, Artikel und Interpunktionselemente entfernt \n",
        "*   lemmatisiert,\n",
        "\n",
        "und dann den bearbeiteten Satz zurückgibt. Testen Sie die Methode mit dem Satz oben und mit einem weiteren Satz, den Sie hier hinzufügen.\n",
        "\n"
      ]
    },
    {
      "cell_type": "code",
      "metadata": {
        "id": "7RxrB1YzJMFM",
        "colab_type": "code",
        "outputId": "ce9aa127-c81e-416d-d69f-e9abc3420134",
        "colab": {
          "base_uri": "https://localhost:8080/",
          "height": 52
        }
      },
      "source": [
        "def preprocessing(input_sentence):\n",
        "  pos_to_be_removed = [\"DET\", \"ADV\", \"PUNCT\"]\n",
        "  text_out = []\n",
        "  doc = nlp(input_sentence)\n",
        "  \n",
        "  # Ihr Code für die Kleinschreibweise\n",
        "  sentence = input_sentence.lower()\n",
        "\n",
        "  # Ihr Code für Tokenisierung, Lemmatisierung, und POS-Filter (alles in einer for-Schleife mit if-Anweisungen)\n",
        "  for token in doc: \n",
        "    if token.pos_ not in pos_to_be_removed: \n",
        "      text_out.append(token.lemma_)\n",
        "  return text_out    \n",
        "    \n",
        "    \n",
        "print(preprocessing(sentence))\n",
        "\n",
        "# Entwicklen Sie einen weiteren Testfall um Ihre Methode zu testen - also geben Sie einen zweiten Satz ein\n",
        "\n",
        "print(preprocessing(\"Das ist ein Beispiel für einen weiteren Testfall,  nicht sehr kreativ.\"))\n"
      ],
      "execution_count": 0,
      "outputs": [
        {
          "output_type": "stream",
          "text": [
            "['Bürste', 'mit', 'schwarz', 'Borste', 'bürsten', 'gut', 'als', 'Bürste', 'mit', 'weiß', 'Borste', 'bürsten']\n",
            "['der', 'sein', 'Beispiel', 'für', 'weit', 'Testfall', ' ', 'nicht', 'kreativ']\n"
          ],
          "name": "stdout"
        }
      ]
    },
    {
      "cell_type": "markdown",
      "metadata": {
        "id": "hc-wxrMf30Er",
        "colab_type": "text"
      },
      "source": [
        "# Was spaCy noch so kann...\n",
        "Dependency Parsing: Ein weiteres Beispiel für sehr interessante NLP-Prozesse ist das automatische Erkennen von grammatischen Beziehungen zwischen Worten/Phrasen eines Satzes. Die angezeigten \"Tags\" auf den einzlenen Beziehungen sind hier unter \"Dependency Parsing\" definiert: https://spacy.io/api/annotation#dependency-parsing. Zum Beispiel \"sb\" steht für \"subject\" und \"pd\" steht für \"predicate\". "
      ]
    },
    {
      "cell_type": "code",
      "metadata": {
        "id": "feGmg4fc37oU",
        "colab_type": "code",
        "outputId": "da709be4-b7d4-456d-c0e8-e62a0803753e",
        "colab": {
          "base_uri": "https://localhost:8080/",
          "height": 249
        }
      },
      "source": [
        "import spacy\n",
        "nlp = spacy.load('de_core_news_sm')\n",
        "doc = nlp(\"Das ist ein Beispiel für die Art der Visualisierung von spacy.\")\n",
        "spacy.displacy.render(doc, style='dep', jupyter=True, options={'distance': 90})"
      ],
      "execution_count": 0,
      "outputs": [
        {
          "output_type": "display_data",
          "data": {
            "text/html": [
              "<svg xmlns=\"http://www.w3.org/2000/svg\" xmlns:xlink=\"http://www.w3.org/1999/xlink\" xml:lang=\"de\" id=\"a919c564e23b4d23b4a5fafe6effb085-0\" class=\"displacy\" width=\"1040\" height=\"227.0\" direction=\"ltr\" style=\"max-width: none; height: 227.0px; color: #000000; background: #ffffff; font-family: Arial; direction: ltr\">\n",
              "<text class=\"displacy-token\" fill=\"currentColor\" text-anchor=\"middle\" y=\"137.0\">\n",
              "    <tspan class=\"displacy-word\" fill=\"currentColor\" x=\"50\">Das</tspan>\n",
              "    <tspan class=\"displacy-tag\" dy=\"2em\" fill=\"currentColor\" x=\"50\">PRON</tspan>\n",
              "</text>\n",
              "\n",
              "<text class=\"displacy-token\" fill=\"currentColor\" text-anchor=\"middle\" y=\"137.0\">\n",
              "    <tspan class=\"displacy-word\" fill=\"currentColor\" x=\"140\">ist</tspan>\n",
              "    <tspan class=\"displacy-tag\" dy=\"2em\" fill=\"currentColor\" x=\"140\">AUX</tspan>\n",
              "</text>\n",
              "\n",
              "<text class=\"displacy-token\" fill=\"currentColor\" text-anchor=\"middle\" y=\"137.0\">\n",
              "    <tspan class=\"displacy-word\" fill=\"currentColor\" x=\"230\">ein</tspan>\n",
              "    <tspan class=\"displacy-tag\" dy=\"2em\" fill=\"currentColor\" x=\"230\">DET</tspan>\n",
              "</text>\n",
              "\n",
              "<text class=\"displacy-token\" fill=\"currentColor\" text-anchor=\"middle\" y=\"137.0\">\n",
              "    <tspan class=\"displacy-word\" fill=\"currentColor\" x=\"320\">Beispiel</tspan>\n",
              "    <tspan class=\"displacy-tag\" dy=\"2em\" fill=\"currentColor\" x=\"320\">NOUN</tspan>\n",
              "</text>\n",
              "\n",
              "<text class=\"displacy-token\" fill=\"currentColor\" text-anchor=\"middle\" y=\"137.0\">\n",
              "    <tspan class=\"displacy-word\" fill=\"currentColor\" x=\"410\">für</tspan>\n",
              "    <tspan class=\"displacy-tag\" dy=\"2em\" fill=\"currentColor\" x=\"410\">ADP</tspan>\n",
              "</text>\n",
              "\n",
              "<text class=\"displacy-token\" fill=\"currentColor\" text-anchor=\"middle\" y=\"137.0\">\n",
              "    <tspan class=\"displacy-word\" fill=\"currentColor\" x=\"500\">die</tspan>\n",
              "    <tspan class=\"displacy-tag\" dy=\"2em\" fill=\"currentColor\" x=\"500\">DET</tspan>\n",
              "</text>\n",
              "\n",
              "<text class=\"displacy-token\" fill=\"currentColor\" text-anchor=\"middle\" y=\"137.0\">\n",
              "    <tspan class=\"displacy-word\" fill=\"currentColor\" x=\"590\">Art</tspan>\n",
              "    <tspan class=\"displacy-tag\" dy=\"2em\" fill=\"currentColor\" x=\"590\">NOUN</tspan>\n",
              "</text>\n",
              "\n",
              "<text class=\"displacy-token\" fill=\"currentColor\" text-anchor=\"middle\" y=\"137.0\">\n",
              "    <tspan class=\"displacy-word\" fill=\"currentColor\" x=\"680\">der</tspan>\n",
              "    <tspan class=\"displacy-tag\" dy=\"2em\" fill=\"currentColor\" x=\"680\">DET</tspan>\n",
              "</text>\n",
              "\n",
              "<text class=\"displacy-token\" fill=\"currentColor\" text-anchor=\"middle\" y=\"137.0\">\n",
              "    <tspan class=\"displacy-word\" fill=\"currentColor\" x=\"770\">Visualisierung</tspan>\n",
              "    <tspan class=\"displacy-tag\" dy=\"2em\" fill=\"currentColor\" x=\"770\">NOUN</tspan>\n",
              "</text>\n",
              "\n",
              "<text class=\"displacy-token\" fill=\"currentColor\" text-anchor=\"middle\" y=\"137.0\">\n",
              "    <tspan class=\"displacy-word\" fill=\"currentColor\" x=\"860\">von</tspan>\n",
              "    <tspan class=\"displacy-tag\" dy=\"2em\" fill=\"currentColor\" x=\"860\">ADP</tspan>\n",
              "</text>\n",
              "\n",
              "<text class=\"displacy-token\" fill=\"currentColor\" text-anchor=\"middle\" y=\"137.0\">\n",
              "    <tspan class=\"displacy-word\" fill=\"currentColor\" x=\"950\">spacy.</tspan>\n",
              "    <tspan class=\"displacy-tag\" dy=\"2em\" fill=\"currentColor\" x=\"950\">PROPN</tspan>\n",
              "</text>\n",
              "\n",
              "<g class=\"displacy-arrow\">\n",
              "    <path class=\"displacy-arc\" id=\"arrow-a919c564e23b4d23b4a5fafe6effb085-0-0\" stroke-width=\"2px\" d=\"M70,92.0 C70,47.0 135.0,47.0 135.0,92.0\" fill=\"none\" stroke=\"currentColor\"/>\n",
              "    <text dy=\"1.25em\" style=\"font-size: 0.8em; letter-spacing: 1px\">\n",
              "        <textPath xlink:href=\"#arrow-a919c564e23b4d23b4a5fafe6effb085-0-0\" class=\"displacy-label\" startOffset=\"50%\" side=\"left\" fill=\"currentColor\" text-anchor=\"middle\">sb</textPath>\n",
              "    </text>\n",
              "    <path class=\"displacy-arrowhead\" d=\"M70,94.0 L62,82.0 78,82.0\" fill=\"currentColor\"/>\n",
              "</g>\n",
              "\n",
              "<g class=\"displacy-arrow\">\n",
              "    <path class=\"displacy-arc\" id=\"arrow-a919c564e23b4d23b4a5fafe6effb085-0-1\" stroke-width=\"2px\" d=\"M250,92.0 C250,47.0 315.0,47.0 315.0,92.0\" fill=\"none\" stroke=\"currentColor\"/>\n",
              "    <text dy=\"1.25em\" style=\"font-size: 0.8em; letter-spacing: 1px\">\n",
              "        <textPath xlink:href=\"#arrow-a919c564e23b4d23b4a5fafe6effb085-0-1\" class=\"displacy-label\" startOffset=\"50%\" side=\"left\" fill=\"currentColor\" text-anchor=\"middle\">nk</textPath>\n",
              "    </text>\n",
              "    <path class=\"displacy-arrowhead\" d=\"M250,94.0 L242,82.0 258,82.0\" fill=\"currentColor\"/>\n",
              "</g>\n",
              "\n",
              "<g class=\"displacy-arrow\">\n",
              "    <path class=\"displacy-arc\" id=\"arrow-a919c564e23b4d23b4a5fafe6effb085-0-2\" stroke-width=\"2px\" d=\"M160,92.0 C160,2.0 320.0,2.0 320.0,92.0\" fill=\"none\" stroke=\"currentColor\"/>\n",
              "    <text dy=\"1.25em\" style=\"font-size: 0.8em; letter-spacing: 1px\">\n",
              "        <textPath xlink:href=\"#arrow-a919c564e23b4d23b4a5fafe6effb085-0-2\" class=\"displacy-label\" startOffset=\"50%\" side=\"left\" fill=\"currentColor\" text-anchor=\"middle\">pd</textPath>\n",
              "    </text>\n",
              "    <path class=\"displacy-arrowhead\" d=\"M320.0,94.0 L328.0,82.0 312.0,82.0\" fill=\"currentColor\"/>\n",
              "</g>\n",
              "\n",
              "<g class=\"displacy-arrow\">\n",
              "    <path class=\"displacy-arc\" id=\"arrow-a919c564e23b4d23b4a5fafe6effb085-0-3\" stroke-width=\"2px\" d=\"M340,92.0 C340,47.0 405.0,47.0 405.0,92.0\" fill=\"none\" stroke=\"currentColor\"/>\n",
              "    <text dy=\"1.25em\" style=\"font-size: 0.8em; letter-spacing: 1px\">\n",
              "        <textPath xlink:href=\"#arrow-a919c564e23b4d23b4a5fafe6effb085-0-3\" class=\"displacy-label\" startOffset=\"50%\" side=\"left\" fill=\"currentColor\" text-anchor=\"middle\">mnr</textPath>\n",
              "    </text>\n",
              "    <path class=\"displacy-arrowhead\" d=\"M405.0,94.0 L413.0,82.0 397.0,82.0\" fill=\"currentColor\"/>\n",
              "</g>\n",
              "\n",
              "<g class=\"displacy-arrow\">\n",
              "    <path class=\"displacy-arc\" id=\"arrow-a919c564e23b4d23b4a5fafe6effb085-0-4\" stroke-width=\"2px\" d=\"M520,92.0 C520,47.0 585.0,47.0 585.0,92.0\" fill=\"none\" stroke=\"currentColor\"/>\n",
              "    <text dy=\"1.25em\" style=\"font-size: 0.8em; letter-spacing: 1px\">\n",
              "        <textPath xlink:href=\"#arrow-a919c564e23b4d23b4a5fafe6effb085-0-4\" class=\"displacy-label\" startOffset=\"50%\" side=\"left\" fill=\"currentColor\" text-anchor=\"middle\">nk</textPath>\n",
              "    </text>\n",
              "    <path class=\"displacy-arrowhead\" d=\"M520,94.0 L512,82.0 528,82.0\" fill=\"currentColor\"/>\n",
              "</g>\n",
              "\n",
              "<g class=\"displacy-arrow\">\n",
              "    <path class=\"displacy-arc\" id=\"arrow-a919c564e23b4d23b4a5fafe6effb085-0-5\" stroke-width=\"2px\" d=\"M430,92.0 C430,2.0 590.0,2.0 590.0,92.0\" fill=\"none\" stroke=\"currentColor\"/>\n",
              "    <text dy=\"1.25em\" style=\"font-size: 0.8em; letter-spacing: 1px\">\n",
              "        <textPath xlink:href=\"#arrow-a919c564e23b4d23b4a5fafe6effb085-0-5\" class=\"displacy-label\" startOffset=\"50%\" side=\"left\" fill=\"currentColor\" text-anchor=\"middle\">nk</textPath>\n",
              "    </text>\n",
              "    <path class=\"displacy-arrowhead\" d=\"M590.0,94.0 L598.0,82.0 582.0,82.0\" fill=\"currentColor\"/>\n",
              "</g>\n",
              "\n",
              "<g class=\"displacy-arrow\">\n",
              "    <path class=\"displacy-arc\" id=\"arrow-a919c564e23b4d23b4a5fafe6effb085-0-6\" stroke-width=\"2px\" d=\"M700,92.0 C700,47.0 765.0,47.0 765.0,92.0\" fill=\"none\" stroke=\"currentColor\"/>\n",
              "    <text dy=\"1.25em\" style=\"font-size: 0.8em; letter-spacing: 1px\">\n",
              "        <textPath xlink:href=\"#arrow-a919c564e23b4d23b4a5fafe6effb085-0-6\" class=\"displacy-label\" startOffset=\"50%\" side=\"left\" fill=\"currentColor\" text-anchor=\"middle\">nk</textPath>\n",
              "    </text>\n",
              "    <path class=\"displacy-arrowhead\" d=\"M700,94.0 L692,82.0 708,82.0\" fill=\"currentColor\"/>\n",
              "</g>\n",
              "\n",
              "<g class=\"displacy-arrow\">\n",
              "    <path class=\"displacy-arc\" id=\"arrow-a919c564e23b4d23b4a5fafe6effb085-0-7\" stroke-width=\"2px\" d=\"M610,92.0 C610,2.0 770.0,2.0 770.0,92.0\" fill=\"none\" stroke=\"currentColor\"/>\n",
              "    <text dy=\"1.25em\" style=\"font-size: 0.8em; letter-spacing: 1px\">\n",
              "        <textPath xlink:href=\"#arrow-a919c564e23b4d23b4a5fafe6effb085-0-7\" class=\"displacy-label\" startOffset=\"50%\" side=\"left\" fill=\"currentColor\" text-anchor=\"middle\">ag</textPath>\n",
              "    </text>\n",
              "    <path class=\"displacy-arrowhead\" d=\"M770.0,94.0 L778.0,82.0 762.0,82.0\" fill=\"currentColor\"/>\n",
              "</g>\n",
              "\n",
              "<g class=\"displacy-arrow\">\n",
              "    <path class=\"displacy-arc\" id=\"arrow-a919c564e23b4d23b4a5fafe6effb085-0-8\" stroke-width=\"2px\" d=\"M790,92.0 C790,47.0 855.0,47.0 855.0,92.0\" fill=\"none\" stroke=\"currentColor\"/>\n",
              "    <text dy=\"1.25em\" style=\"font-size: 0.8em; letter-spacing: 1px\">\n",
              "        <textPath xlink:href=\"#arrow-a919c564e23b4d23b4a5fafe6effb085-0-8\" class=\"displacy-label\" startOffset=\"50%\" side=\"left\" fill=\"currentColor\" text-anchor=\"middle\">pg</textPath>\n",
              "    </text>\n",
              "    <path class=\"displacy-arrowhead\" d=\"M855.0,94.0 L863.0,82.0 847.0,82.0\" fill=\"currentColor\"/>\n",
              "</g>\n",
              "\n",
              "<g class=\"displacy-arrow\">\n",
              "    <path class=\"displacy-arc\" id=\"arrow-a919c564e23b4d23b4a5fafe6effb085-0-9\" stroke-width=\"2px\" d=\"M880,92.0 C880,47.0 945.0,47.0 945.0,92.0\" fill=\"none\" stroke=\"currentColor\"/>\n",
              "    <text dy=\"1.25em\" style=\"font-size: 0.8em; letter-spacing: 1px\">\n",
              "        <textPath xlink:href=\"#arrow-a919c564e23b4d23b4a5fafe6effb085-0-9\" class=\"displacy-label\" startOffset=\"50%\" side=\"left\" fill=\"currentColor\" text-anchor=\"middle\">nk</textPath>\n",
              "    </text>\n",
              "    <path class=\"displacy-arrowhead\" d=\"M945.0,94.0 L953.0,82.0 937.0,82.0\" fill=\"currentColor\"/>\n",
              "</g>\n",
              "</svg>"
            ],
            "text/plain": [
              "<IPython.core.display.HTML object>"
            ]
          },
          "metadata": {
            "tags": []
          }
        }
      ]
    },
    {
      "cell_type": "markdown",
      "metadata": {
        "id": "p3OyjxNl5XcP",
        "colab_type": "text"
      },
      "source": [
        "Named entity recognition: erkennen von benannten Entitäten"
      ]
    },
    {
      "cell_type": "code",
      "metadata": {
        "id": "6FTO2H9K5dJO",
        "colab_type": "code",
        "outputId": "036e8ef9-e8e8-44b3-b80e-0a326175a609",
        "colab": {
          "base_uri": "https://localhost:8080/",
          "height": 86
        }
      },
      "source": [
        "nlp = spacy.load(\"en_core_web_sm\")\n",
        "doc = nlp(\"Apple is looking at buying U.K. startup for $1 billion\")\n",
        "\n",
        "print(\"Text\", \"Startindex\", \"Endindex\", \"Beschreibung\")\n",
        "for ent in doc.ents:\n",
        "  print(ent.text, ent.start_char, ent.end_char, ent.label_)\n"
      ],
      "execution_count": 0,
      "outputs": [
        {
          "output_type": "stream",
          "text": [
            "Text Startindex Endindex Beschreibung\n",
            "Apple 0 5 ORG\n",
            "U.K. 27 31 GPE\n",
            "$1 billion 44 54 MONEY\n"
          ],
          "name": "stdout"
        }
      ]
    }
  ]
}