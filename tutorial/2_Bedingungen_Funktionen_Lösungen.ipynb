{
  "nbformat": 4,
  "nbformat_minor": 0,
  "metadata": {
    "colab": {
      "name": "2_Bedingungen_Funktionen.ipynb",
      "provenance": [],
      "collapsed_sections": [],
      "authorship_tag": "ABX9TyPNZ/qclb4WxHoq0GppN87G"
    },
    "kernelspec": {
      "name": "python3",
      "display_name": "Python 3"
    }
  },
  "cells": [
    {
      "cell_type": "markdown",
      "metadata": {
        "id": "BVqdKVMLWgOr",
        "colab_type": "text"
      },
      "source": [
        "# Programmieren für ÜbersetzerInnen - Bedinungen und Funktionen \n",
        "\n",
        "Dieses Notebook erklärt die ersten einfachen Bedingungen und Schleifen ebenso wie man Funktionen in Python schreiben kann. "
      ]
    },
    {
      "cell_type": "markdown",
      "metadata": {
        "id": "88yIyBh9rpf1",
        "colab_type": "text"
      },
      "source": [
        "# Letkion 1: Bedingungen\n",
        "Die sogenannte `if`-Anweisung (falls) überprüft ob eine Bedingung erfüllt wird. Die Bedingung steht in derselben Zeile nach dem `if`. Alle Zeilen die nach der Zeile mit dem `if` angeführt sind werden nur ausgegeben wenn die `if`-Bedingung erfüllt ist. "
      ]
    },
    {
      "cell_type": "code",
      "metadata": {
        "id": "hYOn-MXEXeLy",
        "colab_type": "code",
        "outputId": "e12abb4b-1641-4d43-b6fa-67b5309dbfa4",
        "colab": {
          "base_uri": "https://localhost:8080/",
          "height": 69
        }
      },
      "source": [
        "# Beispiel \n",
        "name = \"Beispiel\"\n",
        "\n",
        "if name == \"Beispiel\": \n",
        "  print(\"Das ist ein Beispiel für eine if-Anweisung.\")\n",
        "  print(\"Nur wenn die Variable name mit dem String übereinstimmt, wird dieser Text ausgegeben.\")\n",
        "\n",
        "print(\"Dieser Text wird immer ausgegeben.\")"
      ],
      "execution_count": 0,
      "outputs": [
        {
          "output_type": "stream",
          "text": [
            "Das ist ein Beispiel für eine if-Anweisung.\n",
            "Nur wenn die Variable name mit dem String übereinstimmt, wird dieser Text ausgegeben.\n",
            "Dieser Text wird immer ausgegeben.\n"
          ],
          "name": "stdout"
        }
      ]
    },
    {
      "cell_type": "markdown",
      "metadata": {
        "id": "x6ysMeehus87",
        "colab_type": "text"
      },
      "source": [
        "**Aufgabe:** <br>\n",
        "Wie muss die nachstehende Variable `alter` geändert werden, damit der `print`-Befehl ausführt wird?"
      ]
    },
    {
      "cell_type": "code",
      "metadata": {
        "id": "eNtuwMJzsXHR",
        "colab_type": "code",
        "outputId": "4e5d1193-f080-4ac7-889c-9425c46242c0",
        "colab": {
          "base_uri": "https://localhost:8080/",
          "height": 34
        }
      },
      "source": [
        "# Auskunft über Ermäßigungen der Eintrittskarten für den Tiergarten Schönnbrunn\n",
        "# alter = 5 das war der ursprüngliche Wert, der neue muss größer als 15 sein\n",
        "alter = 16\n",
        "\n",
        "if alter > 15: \n",
        "  print(\"Bitte kaufen Sie eine Eintrittskarte für Erwachsene.\")"
      ],
      "execution_count": 0,
      "outputs": [
        {
          "output_type": "stream",
          "text": [
            "Bitte kaufen Sie eine Eintrittskarte für Erwachsene.\n"
          ],
          "name": "stdout"
        }
      ]
    },
    {
      "cell_type": "markdown",
      "metadata": {
        "id": "vWcjRGeHvM1e",
        "colab_type": "text"
      },
      "source": [
        "Wenn mann eine Bedingung hat und auch einen bestimmten Code addressieren möchte wenn diese Bedingung nicht erfüllt ist, kann man `else` verwenden. Also immer wenn die Bedingung der `if`-Anweisung nicht erfüllt ist, wird der Code nach `else` ausgeführt. \n",
        "\n",
        "Bitte beachten Sie: wieder nur der eingerückte Code zählt zur darüberstehenden Zeile. "
      ]
    },
    {
      "cell_type": "markdown",
      "metadata": {
        "id": "E0VcFTIcYOrk",
        "colab_type": "text"
      },
      "source": [
        "**Aufgabe:** <br>\n",
        "Wie muss die nachstehende Variable `alter` geändert werden, damit der Text der `else`-Anweisung ausgegeben wird?"
      ]
    },
    {
      "cell_type": "code",
      "metadata": {
        "id": "I-yQvRzNvp05",
        "colab_type": "code",
        "outputId": "3ea66c50-0fd0-4003-e2f2-f7981e7370fc",
        "colab": {
          "base_uri": "https://localhost:8080/",
          "height": 34
        }
      },
      "source": [
        "# alter = 5 das war der ursprüngliche Wert, der neue muss größer als 15 sein\n",
        "alter = 16\n",
        "\n",
        "if alter <= 15: \n",
        "  print(\"Bitte kaufen Sie eine ermäßigte Eintrittskarte.\")\n",
        "else: \n",
        "  print(\"Bitte kaufen Sie eine Eintrittskarte für Erwachsene.\")\n",
        "\n"
      ],
      "execution_count": 0,
      "outputs": [
        {
          "output_type": "stream",
          "text": [
            "Bitte kaufen Sie eine Eintrittskarte für Erwachsene.\n"
          ],
          "name": "stdout"
        }
      ]
    },
    {
      "cell_type": "markdown",
      "metadata": {
        "id": "L6RPSUj4zCSE",
        "colab_type": "text"
      },
      "source": [
        "Wenn man mehrere `if`-Bedingungen anführen möchte, die einander ausschließen, kann man `else` durch mehrere `elif`-Anweisungen ersetzen. "
      ]
    },
    {
      "cell_type": "markdown",
      "metadata": {
        "colab_type": "text",
        "id": "sHDiVL2jwnTx"
      },
      "source": [
        "**Aufgabe:** <br>\n",
        "Verwendene Sie den Wert der nachstehende Variable `alter` so oft, bis jede der drei `print`-Befehle einmal ausgegeben wurde. Mit anderen Worte, bei jeder Änderung der Variable `alter` sollte ein anderer `print`-Befehl ausgegeben werden. Warum wird immer nur einer der drei `print`-Befehle ausgegeben?"
      ]
    },
    {
      "cell_type": "code",
      "metadata": {
        "colab_type": "code",
        "id": "jTf5-16pwnT5",
        "outputId": "d5480340-b792-46b2-ce83-72383bf9118f",
        "colab": {
          "base_uri": "https://localhost:8080/",
          "height": 34
        }
      },
      "source": [
        "# Auskunft über Ermäßigungen der Eintrittskarten für den Tiergarten Schönnbrunn\n",
        "alter = 6 # gibt zweiten Print-Befehl aus, weil das Alter größer-gleich 6 und kleiner gleich 15 ist (alle anderen Bedinungen schließen Werte kleiner 15 (1) bzw. größer 6 (3) aus)\n",
        "#alter = 16 gibt den ersten Print-Befehl aus, weil das Alter größer als 15 ist (alle anderen Bedingungen schließen Zahlen größer 15 aus)\n",
        "#altetr = 5 gibt den dritten Print-Befehl aus, da dies die einzige Bedingung ist die auf diese Zahl zutrifft - also schließen diese drei Bedingungen einander aus \n",
        "\n",
        "if alter > 15: \n",
        "  print(\"Bitte kaufen Sie eine Eintrittskarte für Erwachsene.\")\n",
        "\n",
        "elif alter >= 6 and alter <= 15:  # kurz für else-if \n",
        "  print(\"Sie erhalten eine ermäßigte Eintrittskarte für Kinder und Jugendliche.\")\n",
        "\n",
        "elif alter < 6: \n",
        "  print(\"Eintrittskarten für Kinder unter 6 Jahren sind kostenlos.\")"
      ],
      "execution_count": 0,
      "outputs": [
        {
          "output_type": "stream",
          "text": [
            "Sie erhalten eine ermäßigte Eintrittskarte für Kinder und Jugendliche.\n"
          ],
          "name": "stdout"
        }
      ]
    },
    {
      "cell_type": "markdown",
      "metadata": {
        "id": "kmrrb8CUn27m",
        "colab_type": "text"
      },
      "source": [
        "Der operator `and` stellt einen logischen Operator dar, der nur dann `True` zurückgibt und dessen Bedinungen nur dann erfüllt sind, wenn beide Bedingungen links und rechts des `and` wahr sind. Weitere logische Operatoren:\n",
        "\n",
        "*   `and`: liefert `true` zurück wenn beide Bedinungen links und rechts des `and` wahr sind  \n",
        "*   `or`: liefert `true` zurück wenn eine der Bedingungen wahr ist \n",
        "*   `not`: liefert das Gegenteil des derzeitigen Statuses zurück\n",
        "\n",
        "Zum Beispiel: \n",
        "\n",
        "\n"
      ]
    },
    {
      "cell_type": "code",
      "metadata": {
        "id": "oMvyfN1xoxyr",
        "colab_type": "code",
        "outputId": "5910140c-b323-43e9-df4e-a1d70f7c04c0",
        "colab": {
          "base_uri": "https://localhost:8080/",
          "height": 86
        }
      },
      "source": [
        "var1 = True \n",
        "var2 = False \n",
        "print(var1)\n",
        "print(var1 and var2)\n",
        "print(var1 or var2)\n",
        "print(not(var1))"
      ],
      "execution_count": 0,
      "outputs": [
        {
          "output_type": "stream",
          "text": [
            "True\n",
            "False\n",
            "True\n",
            "False\n"
          ],
          "name": "stdout"
        }
      ]
    },
    {
      "cell_type": "markdown",
      "metadata": {
        "id": "w-OYMnyMpIx_",
        "colab_type": "text"
      },
      "source": [
        "**Frage** <br>\n",
        "Was ist die Ausgabe der folgenden beiden `print`-Befehle?"
      ]
    },
    {
      "cell_type": "code",
      "metadata": {
        "id": "Dimkvku5pPLh",
        "colab_type": "code",
        "outputId": "19c3a314-bf10-4c8e-b9ef-b6d62be0e062",
        "colab": {
          "base_uri": "https://localhost:8080/",
          "height": 69
        }
      },
      "source": [
        "print(var1 and var1)\n",
        "print(not(var2))\n",
        "print(not(var2) and var1)"
      ],
      "execution_count": 0,
      "outputs": [
        {
          "output_type": "stream",
          "text": [
            "True\n",
            "True\n",
            "True\n"
          ],
          "name": "stdout"
        }
      ]
    },
    {
      "cell_type": "markdown",
      "metadata": {
        "id": "uNaZk-NQVi16",
        "colab_type": "text"
      },
      "source": [
        "# Lektion 2: Schleifen\n",
        "\n",
        "Durch eine Schleife kann über eine Sequenz iteriert werden (Liste, Satz, Zeichenkette, etc.). Zum Beispiel: "
      ]
    },
    {
      "cell_type": "code",
      "metadata": {
        "id": "imDjIMHmZk29",
        "colab_type": "code",
        "outputId": "ae518813-75cb-4859-8b72-b2f21736b707",
        "colab": {
          "base_uri": "https://localhost:8080/",
          "height": 121
        }
      },
      "source": [
        "# Beispiel String \n",
        "my_string = \"Banane\"\n",
        "for element in my_string:\n",
        "  print(element)\n"
      ],
      "execution_count": 0,
      "outputs": [
        {
          "output_type": "stream",
          "text": [
            "B\n",
            "a\n",
            "n\n",
            "a\n",
            "n\n",
            "e\n"
          ],
          "name": "stdout"
        }
      ]
    },
    {
      "cell_type": "code",
      "metadata": {
        "id": "bTStZESgWer8",
        "colab_type": "code",
        "outputId": "da9237d6-564c-4a0d-9546-6fd9047cc84c",
        "colab": {
          "base_uri": "https://localhost:8080/",
          "height": 121
        }
      },
      "source": [
        "# Beispiel Liste \n",
        "my_list = [\"Programmieren für ÜbersetzerInnen\", \"Freitag\", \"Februar\", \"Gymnasiumstraße\"]\n",
        "print(\"Gesamte Liste: \", my_list)\n",
        "print(\"Einzelne Elemente: \")\n",
        "for element in my_list: \n",
        "  print(element)"
      ],
      "execution_count": 0,
      "outputs": [
        {
          "output_type": "stream",
          "text": [
            "Gesamte Liste:  ['Programmieren für ÜbersetzerInnen', 'Freitag', 'Februar', 'Gymnasiumstraße']\n",
            "Einzelne Elemente: \n",
            "Programmieren für ÜbersetzerInnen\n",
            "Freitag\n",
            "Februar\n",
            "Gymnasiumstraße\n"
          ],
          "name": "stdout"
        }
      ]
    },
    {
      "cell_type": "markdown",
      "metadata": {
        "id": "4Bw5x0FsZ37r",
        "colab_type": "text"
      },
      "source": [
        "Schleifen werden häufig mit anderen Anweisungen kombiniert, wie z. B. der `if`-Anweisung. Wenn Sie Elemente einer Liste mit einer `for`-Schleife durchlaufen und die Elemente in der Schleife bearbeiten, hat das keine Auswirkung auf die Elemente in der Liste."
      ]
    },
    {
      "cell_type": "code",
      "metadata": {
        "id": "xJnsHvFHZ-H9",
        "colab_type": "code",
        "outputId": "b84bd94c-3d95-4554-b87c-9da443e7027e",
        "colab": {
          "base_uri": "https://localhost:8080/",
          "height": 34
        }
      },
      "source": [
        "for x in my_list: \n",
        "  if x == \"Freitag\":\n",
        "    x = \"Samstag\"\n",
        "      \n",
        "print(my_list)"
      ],
      "execution_count": 0,
      "outputs": [
        {
          "output_type": "stream",
          "text": [
            "['Programmieren für ÜbersetzerInnen', 'Freitag', 'Februar', 'Gymnasiumstraße']\n"
          ],
          "name": "stdout"
        }
      ]
    },
    {
      "cell_type": "markdown",
      "metadata": {
        "id": "8kk6rMfUbX7A",
        "colab_type": "text"
      },
      "source": [
        "Um in der Liste oben \"Freitag\" auf \"Samstag\" zu ändern, müssen wir zuerst den Index des Eintrags in der Liste finden und diesem Index dann einen neuen Wert zuweisen.\n",
        "\n",
        "**Frage:** <br>\n",
        "Was passiert wenn Sie den nachstehenden Code zwei Mal ausführen und warum? "
      ]
    },
    {
      "cell_type": "code",
      "metadata": {
        "id": "_gzvCiFWbXK9",
        "colab_type": "code",
        "outputId": "ff0e6bfb-2bdc-436e-8c7b-f888200638cb",
        "colab": {
          "base_uri": "https://localhost:8080/",
          "height": 52
        }
      },
      "source": [
        "print(\"Meine Liste: \", my_list)\n",
        "\n",
        "# Zuerst überprüfen wir ob Freitag in der Liste ist\n",
        "if \"Freitag\" in my_list: \n",
        "  this_index = my_list.index(\"Freitag\")\n",
        "  print(\"Freitag hat den Index: \", this_index)\n",
        "\n",
        "  my_list[this_index] = \"Samstag\"\n",
        "  print(\"Meine Liste danach: \", my_list)\n",
        " \n",
        "else: \n",
        "  print('Es gibt das Wort \"Freitag\" in dieser Liste nicht.')"
      ],
      "execution_count": 0,
      "outputs": [
        {
          "output_type": "stream",
          "text": [
            "Meine Liste:  ['Programmieren für ÜbersetzerInnen', 'Samstag', 'Februar', 'Gymnasiumstraße']\n",
            "Es gibt das Wort \"Freitag\" in dieser Liste nicht.\n"
          ],
          "name": "stdout"
        }
      ]
    },
    {
      "cell_type": "markdown",
      "metadata": {
        "id": "rn_n_-0cF9hu",
        "colab_type": "text"
      },
      "source": [
        "**Antwort:** Beim ersten Mal ausführen des Codes wird das Element \"Freitag\" in der Liste durch \"Samstag\" ersetzt. Dadurch kann das Element \"Freitag\" beim zweiten ausführen nicht gefunden werden und `else` trifft zu."
      ]
    },
    {
      "cell_type": "markdown",
      "metadata": {
        "id": "5Yy9x6ZLch3-",
        "colab_type": "text"
      },
      "source": [
        "# Lektion 3: Funktionen\n",
        "\n",
        "Wenn Sie mehrere Zeilen Code haben, die eine bestimmte Aufgabe erfüllen und Sie diese öfter ausführen wollen, dann kann man das mit Funktionen machen. Sie können eine definierte Funktion von jeder Stelle des Codes danach und mehrfach aufrufen. Funktionen folgen dem folgenden Schema: \n",
        "\n",
        "```\n",
        "def funktionsname(Parameterliste):\n",
        "    Anweisung(en)\n",
        "    return Ausgabe\n",
        "```\n",
        "\n",
        "\n",
        "\n",
        "Funktionen werden mithilfe des Ausdrucks `def` definiert und erhalten einen bestimmten Namen (meist beginnend mit einem Kleinbuchstaben). Zum Beispiel: "
      ]
    },
    {
      "cell_type": "code",
      "metadata": {
        "id": "afJoEorhc8Ef",
        "colab_type": "code",
        "outputId": "ed965e1d-5c45-45d0-c452-68ab2f8695db",
        "colab": {
          "base_uri": "https://localhost:8080/",
          "height": 69
        }
      },
      "source": [
        "def welcomeMessage():\n",
        "  print('Willkommen zum ersten Workshop \"Programmieren für ÜbersetzerInnen\" der ein paar Grundbegriffe erklärt und Hilfe zur Selbsthilfe bieten soll!')\n",
        "  return\n",
        "\n",
        "welcomeMessage()\n",
        "print(\"Irgendeine anderen Nachricht\")\n",
        "welcomeMessage()"
      ],
      "execution_count": 0,
      "outputs": [
        {
          "output_type": "stream",
          "text": [
            "Willkommen zum ersten Workshop \"Programmieren für ÜbersetzerInnen\" der ein paar Grundbegriffe erklärt und Hilfe zur Selbsthilfe bieten soll!\n",
            "Irgendeine anderen Nachricht\n",
            "Willkommen zum ersten Workshop \"Programmieren für ÜbersetzerInnen\" der ein paar Grundbegriffe erklärt und Hilfe zur Selbsthilfe bieten soll!\n"
          ],
          "name": "stdout"
        }
      ]
    },
    {
      "cell_type": "markdown",
      "metadata": {
        "id": "r1f8IBBudjuq",
        "colab_type": "text"
      },
      "source": [
        "In den Klammern kann man der Funktion eine Variable übergeben, die dann bearbeitet und mithilfe der `return` Zeile wieder zurückgegeben werden kann. Zum Beispiel: "
      ]
    },
    {
      "cell_type": "code",
      "metadata": {
        "id": "R19DJ61Wdv05",
        "colab_type": "code",
        "outputId": "8bdf15fc-38bc-4ac6-ebf6-b7c8cf8649b5",
        "colab": {
          "base_uri": "https://localhost:8080/",
          "height": 69
        }
      },
      "source": [
        "\"\"\" Gibt die Temperatur in Farenheit zurück \"\"\"\n",
        "def celciusToFahrenheit(T_in_celsius):\n",
        "    farenheit = (T_in_celsius * 9 / 5) + 32\n",
        "    return farenheit \n",
        "    \n",
        "print(\"Celcius -11: \", celciusToFahrenheit(-11), \" Farenheit\")\n",
        "print(\"Celcius 25: \", celciusToFahrenheit(25), \" Farenheit\")\n",
        "print(\"Celcius 94: \", celciusToFahrenheit(94), \" Farenheit\")"
      ],
      "execution_count": 0,
      "outputs": [
        {
          "output_type": "stream",
          "text": [
            "Celcius -11:  12.2  Farenheit\n",
            "Celcius 25:  77.0  Farenheit\n",
            "Celcius 94:  201.2  Farenheit\n"
          ],
          "name": "stdout"
        }
      ]
    },
    {
      "cell_type": "markdown",
      "metadata": {
        "id": "aphw686ZfJJF",
        "colab_type": "text"
      },
      "source": [
        "**Aufgabe** <br>\n",
        "Schreiben Sie eine Funktion die zwei Zahlen addiert und das Ergebnis zurück gibt. Schreiben Sie weitere Tests für Ihre Funktion: derzeit wird die Funktion nur einmal aufgerufen; schreiben Sie zwei weitere Aufrufe für die Funktion und überprüfen Sie das Ergebnis. "
      ]
    },
    {
      "cell_type": "code",
      "metadata": {
        "id": "GIx6S10agzcH",
        "colab_type": "code",
        "outputId": "e472aa92-7b52-463d-b22e-ceb3d01954d7",
        "colab": {
          "base_uri": "https://localhost:8080/",
          "height": 86
        }
      },
      "source": [
        "def addTwoNumbers(num1, num2):\n",
        "  # Ihr Code sollte hier stehen \n",
        "  result = num1 + num2\n",
        "  return result\n",
        "\n",
        "# Testfall 1 \n",
        "print(\"2 + 2 = \", addTwoNumbers(2,2))\n",
        "# Weitere Testfälle \n",
        "print(\"2 + 4 = \", addTwoNumbers(2,4))\n",
        "print(\"9 + 11 = \", addTwoNumbers(9,11))\n",
        "print(\"4 + 7 = \", addTwoNumbers(4,7))\n"
      ],
      "execution_count": 0,
      "outputs": [
        {
          "output_type": "stream",
          "text": [
            "2 + 2 =  4\n",
            "2 + 4 =  6\n",
            "9 + 11 =  20\n",
            "4 + 7 =  11\n"
          ],
          "name": "stdout"
        }
      ]
    }
  ]
}