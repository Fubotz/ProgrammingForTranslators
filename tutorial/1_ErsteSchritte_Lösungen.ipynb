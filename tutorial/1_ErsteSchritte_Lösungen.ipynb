{
  "nbformat": 4,
  "nbformat_minor": 0,
  "metadata": {
    "colab": {
      "name": "1_ErsteSchritte.ipynb",
      "provenance": [],
      "collapsed_sections": []
    },
    "kernelspec": {
      "name": "python3",
      "display_name": "Python 3"
    }
  },
  "cells": [
    {
      "cell_type": "markdown",
      "metadata": {
        "id": "BcnUc0sL9433",
        "colab_type": "text"
      },
      "source": [
        "# Programmieren für ÜbersetzerInnen - Erste Schritte\n",
        "\n",
        "Dieses Notebook bietet einige interaktive Programmierübungen für Ihre ersten Schritte in der Welt des Programmierens. Es wurde eigens für diesen Workshop angelegt. \n",
        "\n",
        "Wenn Sie den nachfolgenden Code auf Ihrem eigenen Windows-Computer zuhause ausführen möchten oder weitere Tutorials absolvieren möchten, folgen Sie bitte den Anweisungen unter https://github.com/dgromann/ProgrammingForTranslators auf der Startseite."
      ]
    },
    {
      "cell_type": "markdown",
      "metadata": {
        "id": "naqT4gwM2X92",
        "colab_type": "text"
      },
      "source": [
        "### Warum programmieren?\n",
        "Damit kann man \"langweilige\" Aufgaben automatisieren, wie etwa suche nach Kollokationen in Text oder die Berechnung der Gewichtung von Fachausdrücken (z. B. TF-IDF Gewichtungen), und jede Anwendung genau an die eigenen Bedürfnisse anpassen. "
      ]
    },
    {
      "cell_type": "markdown",
      "metadata": {
        "id": "5kHcoh1Y1ybd",
        "colab_type": "text"
      },
      "source": [
        "### Warum Python?\n",
        "\n",
        "Es gibt viele verschiedenen Programmiersprachen, z. B. Java, C++, C#, etc. Warum also sollte man also gerade Python lernen? \n",
        "\n",
        "\n",
        "*   *Leicht zu lernen*: eine der einfachsten Programmiersprachen für absolute Anfänger - auch auf diesem Prinzip erstellt\n",
        "*   *Stark nachgefragt*: großer Bedarf an Python-Softwareentwicklern am Markt\n",
        "*   *Weit verbreitet*: Python wird am häufigsten für maschinelles Lernen, inklusive maschineller Übersetzung, Natural Language Processing (NLP) und künstliche Intelligenz im Allgemeinen eingesetzt \n",
        "*   *Große Gemeinschaft*: je mehr Programmierer es gibt, desto mehr Hilfestellungen findet man in Online-Gemeinschaften und -Foren. Es gibt beinahe kein Problem in Python, für das nicht schon online eine Lösung gefunden wurde.\n",
        "\n",
        "Daher ist Python eine sehr attraktive Programmiersprache für SprachexpertInnen. "
      ]
    },
    {
      "cell_type": "markdown",
      "metadata": {
        "id": "5ZwBNTy66egw",
        "colab_type": "text"
      },
      "source": [
        "# Lektion 1: Hallo Welt!\n",
        "\n",
        "In der Welt des Programmierens besteht die lange Tradition als erste Aufgabe in der neuen Sprache \"Hello World!\" auf dem Bildschirm anzeigen zu lassen. \n",
        "\n",
        "Der Befehl `print(\"Hello World!\")` macht genau das wonach er klingt, er gibt den Text innerhalb der Klammern und Anführungszeichen am Bildschirm aus.\n",
        "\n",
        "Die nachstehende graue Zelle ist eine Code-Zelle. Das heißt der darin enthaltene Programmiercode kann vom Computer ausgeführt werden. Code muss nicht nur geschrieben, sondern auch ausgeführt werden. In unserer Workshopumgebung machen Sie dass, indem Sie einmal auf die graue Zelle klicken und dann auf die Schaltfläche \"&#9658;| Run\" unter der Menüleiste oder aus dem Menü \"Cell\" den Befehl \"Run Cells\". \n",
        "\n",
        "Fragen und praktische Aufgaben werden hier als **Frage** bzw. **Aufgabe** gekennzeichnet. **Fragen** fordern Sie dazu auf Überlegungen anzustellen bevor Sie etwas praktisch testen. **Aufgaben** erfordern das aktive Schreibenv on Code in der grauen Code-Zelle nach der Aufgabenbeschreibung. \n"
      ]
    },
    {
      "cell_type": "markdown",
      "metadata": {
        "id": "A5HtIOpEetDr",
        "colab_type": "text"
      },
      "source": [
        "**Frage:** <br>\n",
        "Was passiert wenn Sie den nachstehenden Code ausführen?"
      ]
    },
    {
      "cell_type": "code",
      "metadata": {
        "id": "pZGmc5wD7RUz",
        "colab_type": "code",
        "colab": {
          "base_uri": "https://localhost:8080/",
          "height": 34
        },
        "outputId": "fb1d0a77-f900-4788-db93-c5677073d1ff"
      },
      "source": [
        "print(\"Welcome to Python!\")"
      ],
      "execution_count": 1,
      "outputs": [
        {
          "output_type": "stream",
          "text": [
            "Welcome to Python!\n"
          ],
          "name": "stdout"
        }
      ]
    },
    {
      "cell_type": "markdown",
      "metadata": {
        "id": "AbTrd68A-8c8",
        "colab_type": "text"
      },
      "source": [
        "**Aufgabe:** <br>\n",
        "Führen Sie den nachstehenden Code aus. Sie werden eine Fehlermeldung erhalten: \n",
        "\n",
        "\n",
        "*   Die erste Zeile zeigt die Datei und Zeilennummer in welcher der Fehler aufgetreten ist.\n",
        "*   Die zweite Zeile markiert die Position des Fehlers in der Zeile.\n",
        "*   Die dritte Zeile zeigt an um welche Art von Fehler es sich handelt (EOL = End of Line bzw. auf Deutsch Zeilenende).\n",
        "\n",
        "\n",
        "Was muss im Code geändert werden um den Fehler zu beheben? "
      ]
    },
    {
      "cell_type": "code",
      "metadata": {
        "id": "icSvQlSA-NUi",
        "colab_type": "code",
        "colab": {
          "base_uri": "https://localhost:8080/",
          "height": 34
        },
        "outputId": "564f7390-28a2-4a4d-ae05-5baf0fa101c0"
      },
      "source": [
        "#print(\"Hello World!\n",
        "print(\"Hello World!\")"
      ],
      "execution_count": 3,
      "outputs": [
        {
          "output_type": "stream",
          "text": [
            "Hello World!\n"
          ],
          "name": "stdout"
        }
      ]
    },
    {
      "cell_type": "markdown",
      "metadata": {
        "id": "Db2jmdHTKw_b",
        "colab_type": "text"
      },
      "source": [
        "# Lektion 2: Variablen \n",
        "\n",
        "Variablen sind im Grunde Speicherplätze für Daten. Variablen speichern einen Wert, egal ob Zahl, Text oder Boolsche Werte (wahr oder falsch). Wenn man diesen Wert später wieder verwenden will, verwendet man einfach die Variable. \n",
        "\n",
        "Im Gegensatz zu anderen Programmiersprachen gibt man bei Python die Art der Variable nicht explizit an. Python erkennt die Art der Variable aufgrund des angegebenen Werts. Also anstelle von `int n = 2` für eine ganze Zahl (int = Integer), kann man in Python einfach `n = 2` sagen und dasselbe Ziel erreichen. \n",
        "\n",
        "Es gibt in Python verschiedene Arten von Datentypen:\n",
        "\n",
        "*   Zahlen\n",
        "*   Strings (Zeichenfolge)\n",
        "*   Collections\n",
        "  *   Liste (geordnete und veränderbare Sammlung; Mehrfachnennungen möglich)\n",
        "  *   Tuple (geordnete und nicht veränderbare Sammlung; Mehrfachnennungen möglich) \n",
        "  *   Set (ungeordnet und veränderbare Sammlung; keine Mehrfachnennungen)\n",
        "  *   Dictionary (ungeordnet, veränderbare, indizierte Sammlung; keine Mehrfachnennungen)\n",
        "\n",
        "Wir konzentrieren uns in diesem Einstiegstutorial auf Zahlen, Strings, Listen und Dictionaries.  \n",
        "\n",
        "\n",
        "\n",
        "\n",
        " \n",
        "\n",
        "\n",
        "\n"
      ]
    },
    {
      "cell_type": "markdown",
      "metadata": {
        "id": "qHJRY3boTFeW",
        "colab_type": "text"
      },
      "source": [
        "## Lektion 2.1: Zahlen\n",
        "\n"
      ]
    },
    {
      "cell_type": "markdown",
      "metadata": {
        "id": "sJ1oWjEOZkC_",
        "colab_type": "text"
      },
      "source": [
        "Zahlen können auch direkt eingegeben werden, ebenso wie Text, sind dann aber nicht wiederverwendbar.  "
      ]
    },
    {
      "cell_type": "code",
      "metadata": {
        "id": "qPQ-ItTkZqYw",
        "colab_type": "code",
        "colab": {
          "base_uri": "https://localhost:8080/",
          "height": 52
        },
        "outputId": "e38e8cec-cdb3-4636-be2a-e472865f464a"
      },
      "source": [
        "# Ich bin ein Kommentar, eine Beschreibung für Menschen, und werde im Programm nicht berücksichtigt\n",
        "# Als Variable \n",
        "result = 2 + 2 \n",
        "print(result)\n",
        "\n",
        "# Direkte Eingabe \n",
        "print(\"Auch dasselbe Ergebnis: \", 2 + 2)"
      ],
      "execution_count": 4,
      "outputs": [
        {
          "output_type": "stream",
          "text": [
            "4\n",
            "Auch dasselbe Ergebnis:  4\n"
          ],
          "name": "stdout"
        }
      ]
    },
    {
      "cell_type": "markdown",
      "metadata": {
        "id": "k7-SBDKuZjSV",
        "colab_type": "text"
      },
      "source": [
        "Zahlen können als numerische Variablen gespeichert werden. \n",
        "\n",
        "**Frage:** <br>\n",
        "Was passiert wenn man die folgende Code-Zelle ausführt? Warum werden hier keine Anführungszeichen bei dem `print()`-Befehl verwendet?"
      ]
    },
    {
      "cell_type": "code",
      "metadata": {
        "id": "zxYR6zUHTpt2",
        "colab_type": "code",
        "colab": {
          "base_uri": "https://localhost:8080/",
          "height": 34
        },
        "outputId": "ea8360e9-35b6-43e5-acd0-b9fa42a1f909"
      },
      "source": [
        "num1 = 2 \n",
        "num2 = 4 \n",
        "result_num = num1 + num2 \n",
        "print(result_num)"
      ],
      "execution_count": 5,
      "outputs": [
        {
          "output_type": "stream",
          "text": [
            "6\n"
          ],
          "name": "stdout"
        }
      ]
    },
    {
      "cell_type": "markdown",
      "metadata": {
        "id": "F1DpOii0URT9",
        "colab_type": "text"
      },
      "source": [
        "Das vorherige Beispiel zeigt ganze Zahlen, es ist aber auch möglich Zahlen mit  Nachkommastellen (sogenannte \"floats\") darzustellen: "
      ]
    },
    {
      "cell_type": "code",
      "metadata": {
        "id": "al7O7ZpdUaiU",
        "colab_type": "code",
        "colab": {
          "base_uri": "https://localhost:8080/",
          "height": 34
        },
        "outputId": "c47dcdf1-44fb-4b16-a649-5898c0e760dd"
      },
      "source": [
        "float1 = 2.1\n",
        "float2 = 4.3 \n",
        "float_result = float1 + float2\n",
        "print(float_result)"
      ],
      "execution_count": 6,
      "outputs": [
        {
          "output_type": "stream",
          "text": [
            "6.4\n"
          ],
          "name": "stdout"
        }
      ]
    },
    {
      "cell_type": "markdown",
      "metadata": {
        "id": "JyoNe5Zx1L5z",
        "colab_type": "text"
      },
      "source": [
        "Wenn der Code schon sehr lange ist oder es nicht ganz klar ersichtlich ist was für eine Art von Variable gerade vorliegt, kann man dies mit der Funktion `type()` ganz leicht herausfinden: "
      ]
    },
    {
      "cell_type": "code",
      "metadata": {
        "id": "jbTRkrsE1UNx",
        "colab_type": "code",
        "colab": {
          "base_uri": "https://localhost:8080/",
          "height": 52
        },
        "outputId": "7a3e9560-8f48-44d1-935a-0d21d30e1d67"
      },
      "source": [
        "print(type(num1))\n",
        "print(type(float1))"
      ],
      "execution_count": 7,
      "outputs": [
        {
          "output_type": "stream",
          "text": [
            "<class 'int'>\n",
            "<class 'float'>\n"
          ],
          "name": "stdout"
        }
      ]
    },
    {
      "cell_type": "markdown",
      "metadata": {
        "id": "7ixi4_tXUm2n",
        "colab_type": "text"
      },
      "source": [
        "**Frage:** <br>\n",
        "Was wird am Bildschirm ausgegeben wenn ich den folgenden Code ausführe?"
      ]
    },
    {
      "cell_type": "code",
      "metadata": {
        "id": "23xH8hKiU6BB",
        "colab_type": "code",
        "colab": {
          "base_uri": "https://localhost:8080/",
          "height": 34
        },
        "outputId": "8152f5e2-c2bb-4782-b2db-eb156ae31292"
      },
      "source": [
        "result1 = result + result_num\n",
        "print(result1)"
      ],
      "execution_count": 8,
      "outputs": [
        {
          "output_type": "stream",
          "text": [
            "10\n"
          ],
          "name": "stdout"
        }
      ]
    },
    {
      "cell_type": "markdown",
      "metadata": {
        "id": "T4cSEjdcg34a",
        "colab_type": "text"
      },
      "source": [
        "**Aufgabe:** <br>\n",
        "Addieren Sie die Variable `result1` mit dem Ergebnis der Float-Operation `float_result`, weisen Sie das Ergebnis einer neuen Variable `result2` zu und geben Sie das Ergebnis auf dem Bildschirm aus. Was für ein Datentyp resultiert daraus?"
      ]
    },
    {
      "cell_type": "code",
      "metadata": {
        "id": "Eu5PfvMYg0zo",
        "colab_type": "code",
        "colab": {
          "base_uri": "https://localhost:8080/",
          "height": 34
        },
        "outputId": "21cd8634-f135-419c-eb85-6a394e5b1116"
      },
      "source": [
        "# Schreiben Sie hier Ihre Addition. \n",
        "result2 = result1 + float_result \n",
        "print(result2)"
      ],
      "execution_count": 9,
      "outputs": [
        {
          "output_type": "stream",
          "text": [
            "16.4\n"
          ],
          "name": "stdout"
        }
      ]
    },
    {
      "cell_type": "markdown",
      "metadata": {
        "id": "sKEulcYN0yY4",
        "colab_type": "text"
      },
      "source": [
        "### Lektion 2.1.1: Arithmetische Operatoren\n",
        "Auf Zahlen können auch viele arithmetische Operationen ausgeführt werden."
      ]
    },
    {
      "cell_type": "markdown",
      "metadata": {
        "id": "NcioGM6AnIBv",
        "colab_type": "text"
      },
      "source": [
        "**Aufgabe:** <br>\n",
        "Führen Sie die nachstehende Code-Zelle aus und versuchen Sie herauszufinden was die einzlenen Operationen mit den Zahlen machen. Ändern Sie die Werte der beiden Zahlen und führen Sie die Code-Zelle erneut aus um die Veränderung in den Ergebnissen zu sehen. \n",
        "\n",
        "Was macht der Modulus-Operator? Was der Exponent-Operator?\n"
      ]
    },
    {
      "cell_type": "code",
      "metadata": {
        "id": "a440aXyf-XdN",
        "colab_type": "code",
        "colab": {
          "base_uri": "https://localhost:8080/",
          "height": 121
        },
        "outputId": "56a95bf3-69c8-4b3d-ac71-60cfa6b143e2"
      },
      "source": [
        "zahl1 = 6 \n",
        "zahl2 = 2 \n",
        "\n",
        "print(\"Addition: zahl1 + zahl2 = \", zahl1 + zahl2)\n",
        "print(\"Subtraktion: zahl1 - zahl2 =  \", zahl1 - zahl2)\n",
        "print(\"Multiplikation: zahl1 * zahl2 =  \", zahl1 * zahl2)\n",
        "print(\"Division: zahl1 / zahl2 =  \", zahl1 / zahl2)\n",
        "print(\"Modulus: zahl1 % zahl2 =  \", zahl1 % zahl2) # Gibt den Rest einer Division zurück, z. B. 6 : 11 ergibt 6 Rest, 5:3 ergibt 2 Rest, etc.\n",
        "print(\"Exponent: zahl1 ** zahl2 =  \", zahl1 ** zahl2) # Entspricht der mathematischen Operation \"hoch\", also zahl1 hoch zahl2"
      ],
      "execution_count": 11,
      "outputs": [
        {
          "output_type": "stream",
          "text": [
            "Addition: zahl1 + zahl2 =  8\n",
            "Subtraktion: zahl1 - zahl2 =   4\n",
            "Multiplikation: zahl1 * zahl2 =   12\n",
            "Division: zahl1 / zahl2 =   3.0\n",
            "Modulus: zahl1 % zahl2 =   0\n",
            "Exponent: zahl1 ** zahl2 =   36\n"
          ],
          "name": "stdout"
        }
      ]
    },
    {
      "cell_type": "markdown",
      "metadata": {
        "colab_type": "text",
        "id": "kkQyxzZa3Uqx"
      },
      "source": [
        "### Lektion 2.1.2: Vergleichsoperatoren\n",
        "\n",
        "Wenn man zwei oder mehrere Variablen miteinander vergleichen will, ist die Verwendung vordefinierter Vergleichsoperatoren sehr sinnvoll.\n",
        "\n",
        "\n",
        "\n",
        "*   `==`: übereprüft die Äquivalenz zwischen den Werten von zwei Variablen\n",
        "*   `!=`: überprüft die Nicht-Äquivalenz zwischen den Werten von zwei Variablen \n",
        "*   `>`: überprüft ob der Wert der linken Variable größer ist als der Wert der rechten \n",
        "*   `<`: überprüft ob der Wert der linken Variable kleiner ist als der Wert der rechten \n",
        "*   `>=`: überprüft ob der Wert der linken Variable gößer oder gleich ist dem Wert der rechten \n",
        "*   `<=`: überprüft ob der Wert der linken Variable kleiner oder gleich ist dem Wer der rechten  \n"
      ]
    },
    {
      "cell_type": "code",
      "metadata": {
        "colab_type": "code",
        "id": "In_wvzy_3Uq5",
        "colab": {
          "base_uri": "https://localhost:8080/",
          "height": 121
        },
        "outputId": "9f38bc5f-6075-477f-f87b-0bdd4d331240"
      },
      "source": [
        "print(\"zahl1 == zahl2 \", zahl1 == zahl2)\n",
        "print(\"zahl1 != zahl2 \", zahl1 != zahl2)\n",
        "print(\"zahl1 > zahl2 \", zahl1 > zahl2)\n",
        "print(\"zahl1 < zahl2 \", zahl1 < zahl2)\n",
        "print(\"zahl1 >= zahl2 \", zahl1 >= zahl2)\n",
        "print(\"zahl1 <= zahl2 \", zahl1 <= zahl2)"
      ],
      "execution_count": 12,
      "outputs": [
        {
          "output_type": "stream",
          "text": [
            "zahl1 == zahl2  False\n",
            "zahl1 != zahl2  True\n",
            "zahl1 > zahl2  True\n",
            "zahl1 < zahl2  False\n",
            "zahl1 >= zahl2  True\n",
            "zahl1 <= zahl2  False\n"
          ],
          "name": "stdout"
        }
      ]
    },
    {
      "cell_type": "markdown",
      "metadata": {
        "id": "hFARVUn144lB",
        "colab_type": "text"
      },
      "source": [
        "Das Ergebnis, dass hier ausgegeben wird stellt Boolsche Werte dar. Boolsche Werte können immer nur den Wert wahr (`True`) oder falsch (`False`) annehmen und sind beim Programmieren sehr wichtig. "
      ]
    },
    {
      "cell_type": "markdown",
      "metadata": {
        "id": "Sq104V0K0roj",
        "colab_type": "text"
      },
      "source": [
        "**Frage** <br>\n",
        "Gibt der folgende Code `True` oder `False` aus?"
      ]
    },
    {
      "cell_type": "code",
      "metadata": {
        "id": "QrYFUwq20zoa",
        "colab_type": "code",
        "colab": {
          "base_uri": "https://localhost:8080/",
          "height": 34
        },
        "outputId": "6542d5ff-867a-4fd7-f6a6-88144e586009"
      },
      "source": [
        "z1 = 2 \n",
        "z2 = 2\n",
        "print(z1 != z2) # False weil 2 == 2"
      ],
      "execution_count": 14,
      "outputs": [
        {
          "output_type": "stream",
          "text": [
            "False\n"
          ],
          "name": "stdout"
        }
      ]
    },
    {
      "cell_type": "markdown",
      "metadata": {
        "id": "emcdrU3QVMCj",
        "colab_type": "text"
      },
      "source": [
        "## Lektion 2.2: Strings\n",
        "\n",
        "In \"Strings\" werden Textdaten in Python gespeichert. Strings können in einfachen oder doppelten Anführungszeichen dargestellt werden. Bei einfachen Anführungszeichen muss ein Apostroph (z. B. don't) mit dem Symbol \"\\\" von einem Anführungszeichen unterschieden werden. Zum Beispiel:"
      ]
    },
    {
      "cell_type": "code",
      "metadata": {
        "id": "Y-R5JojFvCnh",
        "colab_type": "code",
        "colab": {
          "base_uri": "https://localhost:8080/",
          "height": 121
        },
        "outputId": "ca218e10-9224-4803-e7de-26c9aac13d9b"
      },
      "source": [
        "print('Das ist ein String.')\n",
        "print(\"Das ist auch ein String\")\n",
        "print(\"Das ist der Unterschied:\")\n",
        "print('doesn\\'t')\n",
        "print(\"doesn't\")\n",
        "print('\"Ja\" hat er gesagt.')"
      ],
      "execution_count": 15,
      "outputs": [
        {
          "output_type": "stream",
          "text": [
            "Das ist ein String.\n",
            "Das ist auch ein String\n",
            "Das ist der Unterschied:\n",
            "doesn't\n",
            "doesn't\n",
            "\"Ja\" hat er gesagt.\n"
          ],
          "name": "stdout"
        }
      ]
    },
    {
      "cell_type": "markdown",
      "metadata": {
        "id": "6KjnxyB-u7tR",
        "colab_type": "text"
      },
      "source": [
        "Auch auf Strings kann die Operation der Addition angewandt werden:\n",
        "\n",
        "\n"
      ]
    },
    {
      "cell_type": "code",
      "metadata": {
        "id": "0_jSjrD2YK6q",
        "colab_type": "code",
        "colab": {
          "base_uri": "https://localhost:8080/",
          "height": 34
        },
        "outputId": "50d0905b-aef7-4ce7-fcc4-cc4b72b2e322"
      },
      "source": [
        "name1 = \"Dagmar\"\n",
        "name2 = \"Gromann\"\n",
        "result_name = name1 + \" \" + name2 # hier wird ein Leerzeichen hinzugefügt um die Strings zu trennen\n",
        "print(result_name)"
      ],
      "execution_count": 16,
      "outputs": [
        {
          "output_type": "stream",
          "text": [
            "Dagmar Gromann\n"
          ],
          "name": "stdout"
        }
      ]
    },
    {
      "cell_type": "markdown",
      "metadata": {
        "id": "dtSINRbiYe7t",
        "colab_type": "text"
      },
      "source": [
        "\n",
        "**Aufgabe:** <br>\n",
        "Erstellen Sie eine neue Variable für Ihren Vornamen und eine neue Variable für Ihren Nachnamen. Schreiben Sie dann eine Variable in der Sie beide addieren und geben Sie diese Variable am Bildschirm aus.  "
      ]
    },
    {
      "cell_type": "code",
      "metadata": {
        "id": "0p63YrilZEWx",
        "colab_type": "code",
        "colab": {
          "base_uri": "https://localhost:8080/",
          "height": 34
        },
        "outputId": "5d0dce95-7b63-47ce-ec41-66fc54798a59"
      },
      "source": [
        "# Schreiben Sie hier Ihren Vor- und Nachnamen als Variablen, addieren diese und geben das Resultat aus.\n",
        "n1 = \"Ihr Vorname\"\n",
        "n2 = \"Ihr Nachname\"\n",
        "print(n1 + \" \" + n2)"
      ],
      "execution_count": 17,
      "outputs": [
        {
          "output_type": "stream",
          "text": [
            "Ihr Vorname Ihr Nachname\n"
          ],
          "name": "stdout"
        }
      ]
    },
    {
      "cell_type": "markdown",
      "metadata": {
        "id": "qijyR_rQV2JQ",
        "colab_type": "text"
      },
      "source": [
        "Strings sind automatisch indiziert, dass heißt jedem Buchstaben wird ein Index zugewiesen, den man direkt ansprechen kann. Der Index beginnt mit 0 für den ersten Buchstaben, 1 für den zweiten, usw. Es können auch Bereich adressiert werden indem ein Indexbereich angegeben werden, z. B. string[1:4]."
      ]
    },
    {
      "cell_type": "code",
      "metadata": {
        "id": "FEH8QRjIVziT",
        "colab_type": "code",
        "colab": {
          "base_uri": "https://localhost:8080/",
          "height": 69
        },
        "outputId": "fd4de16e-3168-4f1f-e91a-2f32fb53f00e"
      },
      "source": [
        "wort = \"Programmieren\"\n",
        "print(\"Der erste Buchstabe des Wortes:\", wort[0])\n",
        "print(\"Der vierte Buchstabe des Wortes:\", wort[3])\n",
        "print(\"Vom zweiten zum vierten Buchstaben:\", wort[1:4]) "
      ],
      "execution_count": 18,
      "outputs": [
        {
          "output_type": "stream",
          "text": [
            "Der erste Buchstabe des Wortes: P\n",
            "Der vierte Buchstabe des Wortes: g\n",
            "Vom zweiten zum vierten Buchstaben: rog\n"
          ],
          "name": "stdout"
        }
      ]
    },
    {
      "cell_type": "markdown",
      "metadata": {
        "id": "FIS6PtgrXJYg",
        "colab_type": "text"
      },
      "source": [
        "Wird in einem Ausdruck mit zwei Indizes der erste ausgelassen, bedeutet es automatisch \"von Anfang an\". Wird der zweite ausgelassen, bedeutet es automatisch bis \"ganz zum Ende\"."
      ]
    },
    {
      "cell_type": "code",
      "metadata": {
        "id": "nIqW-TpsXKA2",
        "colab_type": "code",
        "colab": {
          "base_uri": "https://localhost:8080/",
          "height": 86
        },
        "outputId": "2dde8859-6364-46ce-a56c-85f68aabca09"
      },
      "source": [
        "print(wort[:3]) # Die ersten drei Buchstaben \n",
        "print(wort[3:]) # Alle außer den ersten drei Buchstaben\n",
        "print(wort[:-2]) # Alles außer der letzten zwei Buchstaben\n",
        "print(wort[-2:]) # Nur die letzten zwei Buchstaben"
      ],
      "execution_count": 19,
      "outputs": [
        {
          "output_type": "stream",
          "text": [
            "Pro\n",
            "grammieren\n",
            "Programmier\n",
            "en\n"
          ],
          "name": "stdout"
        }
      ]
    },
    {
      "cell_type": "markdown",
      "metadata": {
        "id": "6v9XCsmJcTGY",
        "colab_type": "text"
      },
      "source": [
        "**Aufgabe:** <br>\n",
        "Geben Sie die letzten vier Buchstaben des Wortes \"wort\" mithilfe der nachstehenden Code-Zelle aus."
      ]
    },
    {
      "cell_type": "code",
      "metadata": {
        "id": "2X0QF689cSRF",
        "colab_type": "code",
        "colab": {
          "base_uri": "https://localhost:8080/",
          "height": 34
        },
        "outputId": "1c87ed8d-a2f1-46c3-a48d-27b3f8f4e071"
      },
      "source": [
        "print(wort[-4:], \"oder auch\", wort[len(wort)-4:])"
      ],
      "execution_count": 20,
      "outputs": [
        {
          "output_type": "stream",
          "text": [
            "eren oder auch eren\n"
          ],
          "name": "stdout"
        }
      ]
    },
    {
      "cell_type": "markdown",
      "metadata": {
        "id": "XEjqjXYx03lV",
        "colab_type": "text"
      },
      "source": [
        "### Lektion 2.2.1: Operatoren\n",
        "Neben der Addition kann ein String auch multipliziert werden. \n",
        "\n"
      ]
    },
    {
      "cell_type": "markdown",
      "metadata": {
        "id": "1WAGXBZF2ttK",
        "colab_type": "text"
      },
      "source": [
        "**Frage:** <br>\n",
        "Was passiert wenn ein String mit einer bestimmten Zahl multipliziert wird? Kann ein String auch mit sich selbst multipliziert werden?"
      ]
    },
    {
      "cell_type": "code",
      "metadata": {
        "id": "8DM9c0ib1maQ",
        "colab_type": "code",
        "colab": {
          "base_uri": "https://localhost:8080/",
          "height": 34
        },
        "outputId": "ff3ef809-37b3-43fd-b866-091d4e07a741"
      },
      "source": [
        "wort = \"Terminologie\"\n",
        "print(wort * 5)"
      ],
      "execution_count": 21,
      "outputs": [
        {
          "output_type": "stream",
          "text": [
            "TerminologieTerminologieTerminologieTerminologieTerminologie\n"
          ],
          "name": "stdout"
        }
      ]
    },
    {
      "cell_type": "markdown",
      "metadata": {
        "id": "jc16DlAJws4Y",
        "colab_type": "text"
      },
      "source": [
        "**Aufgabe:** <br>\n",
        "Welche dieser Vergleichsoperatoren kann auch sinnvoll auf Text angewandt werden?  Testen Sie Ihre Annahme in der nachstehenden Code-Zelle."
      ]
    },
    {
      "cell_type": "code",
      "metadata": {
        "id": "v9rwuzkTxAFI",
        "colab_type": "code",
        "colab": {
          "base_uri": "https://localhost:8080/",
          "height": 121
        },
        "outputId": "56f4bcbf-413e-4e5c-a80f-9208909c71b3"
      },
      "source": [
        "text1 = \"Banane\"\n",
        "text2 = \"Apfel\"\n",
        "\n",
        "print(\"text1 == text2 \", text1 == text2) # True wenn beide Strings idente Buchstaben enthalten (Groß-Kleinschreibung berücksichtigt)\n",
        "print(\"text1 != text2 \", text1 != text2) # True wenn beide Strings nicht idente Buchstaben enthalten \n",
        "print(\"text1 > text2 \", text1 > text2) # Vergleicht den lexikalischen Index der Buchstaben NICHT die Länge der Strings\n",
        "print(\"text1 < text2 \", text1 < text2) # Vergleicht den lexikalischen Index der Buchstaben NICHT die Länge der Strings\n",
        "print(\"text1 >= text2 \", text1 >= text2) # Vergleicht den lexikalischen Index der Buchstaben NICHT die Länge der Strings\n",
        "print(\"text1 <= text2 \", text1 <= text2) # Vergleicht den lexikalischen Index der Buchstaben NICHT die Länge der Strings"
      ],
      "execution_count": 23,
      "outputs": [
        {
          "output_type": "stream",
          "text": [
            "text1 == text2  False\n",
            "text1 != text2  True\n",
            "text1 > text2  True\n",
            "text1 < text2  False\n",
            "text1 >= text2  True\n",
            "text1 <= text2  False\n"
          ],
          "name": "stdout"
        }
      ]
    },
    {
      "cell_type": "markdown",
      "metadata": {
        "id": "Y728FrvP_P8l",
        "colab_type": "text"
      },
      "source": [
        "**Aufgabe:** <br>\n",
        "Sehen Sie sich den nachstehende Code an und führen Sie in aus. Sie werden eine Fehlermeldung erhalten. Wie kann der Fehler behoben werden? Was ist das Problem?"
      ]
    },
    {
      "cell_type": "code",
      "metadata": {
        "id": "vqfkdASU_O77",
        "colab_type": "code",
        "colab": {
          "base_uri": "https://localhost:8080/",
          "height": 69
        },
        "outputId": "5467e108-b039-46ff-a57e-22eb3b626261"
      },
      "source": [
        "x = 1\n",
        "y = 2\n",
        "first = \"first\"\n",
        "print(x + y + 1) \n",
        "#print(x + y + first) Das war die Zeile vorher \n",
        "print(x + y, first) # so kann man Zahlen und Strings gemeinsam verwenden  \n",
        "print(first, x, y)"
      ],
      "execution_count": 24,
      "outputs": [
        {
          "output_type": "stream",
          "text": [
            "4\n",
            "3 first\n",
            "first 1 2\n"
          ],
          "name": "stdout"
        }
      ]
    },
    {
      "cell_type": "markdown",
      "metadata": {
        "id": "KelQgI9X6Nbu",
        "colab_type": "text"
      },
      "source": [
        "## Lektion 2.3: Listen\n",
        "\n",
        "Im Gegensatz zu Zahlen und Strings, kann eine Liste mehrere Elemente speichern. "
      ]
    },
    {
      "cell_type": "code",
      "metadata": {
        "id": "gHKTeqGf6cIz",
        "colab_type": "code",
        "colab": {
          "base_uri": "https://localhost:8080/",
          "height": 52
        },
        "outputId": "b337458a-a1b0-4990-992d-cb34675020af"
      },
      "source": [
        "my_string = \"Programmieren für ÜbersetzerInnen\"\n",
        "my_list = [\"Programmieren für ÜbersetzerInnen\", \"Freitag\", \"Februar\", \"Gymnasiumstraße\"]\n",
        "print(my_string)\n",
        "print(my_list)"
      ],
      "execution_count": 25,
      "outputs": [
        {
          "output_type": "stream",
          "text": [
            "Programmieren für ÜbersetzerInnen\n",
            "['Programmieren für ÜbersetzerInnen', 'Freitag', 'Februar', 'Gymnasiumstraße']\n"
          ],
          "name": "stdout"
        }
      ]
    },
    {
      "cell_type": "markdown",
      "metadata": {
        "id": "eicUl8Db6x97",
        "colab_type": "text"
      },
      "source": [
        "Listen sind ebenso wie Strings indiziert, d. h. bestimmte Positionen einer Liste können direkt angesprochen werden. Auch wie bei Srtings beginnen wir hier mit 0 zu zählen."
      ]
    },
    {
      "cell_type": "markdown",
      "metadata": {
        "id": "av8FobVD7Aty",
        "colab_type": "text"
      },
      "source": [
        "**Aufgabe** <br>\n",
        "Geben Sie das Element \"Freitag\" aus der Liste `my_list` aus indem Sie den Index in Klammern von `0` auf den richtigen Index ändern:"
      ]
    },
    {
      "cell_type": "code",
      "metadata": {
        "id": "sg1VcA7B7MwL",
        "colab_type": "code",
        "colab": {
          "base_uri": "https://localhost:8080/",
          "height": 34
        },
        "outputId": "060a41f0-0db6-45df-b2ac-d3e8f18726fc"
      },
      "source": [
        "print(my_list[1])"
      ],
      "execution_count": 26,
      "outputs": [
        {
          "output_type": "stream",
          "text": [
            "Freitag\n"
          ],
          "name": "stdout"
        }
      ]
    },
    {
      "cell_type": "markdown",
      "metadata": {
        "id": "FbEIWkNz7NzH",
        "colab_type": "text"
      },
      "source": [
        "**Aufgabe** <br>\n",
        "Geben Sie die Liste `my_list` insgesamt drei Mal aus ohne die Variable öfter als einmal in den Code zu schreiben. "
      ]
    },
    {
      "cell_type": "code",
      "metadata": {
        "id": "GHgOx7mu7cUt",
        "colab_type": "code",
        "colab": {
          "base_uri": "https://localhost:8080/",
          "height": 54
        },
        "outputId": "dd37a557-d4f5-467c-d9f7-9077d255c02c"
      },
      "source": [
        "# Wie kann my_list drei Mal ausgegeben werden ohne die Variable zu wiederholen?\n",
        "print(my_list * 3)"
      ],
      "execution_count": 27,
      "outputs": [
        {
          "output_type": "stream",
          "text": [
            "['Programmieren für ÜbersetzerInnen', 'Freitag', 'Februar', 'Gymnasiumstraße', 'Programmieren für ÜbersetzerInnen', 'Freitag', 'Februar', 'Gymnasiumstraße', 'Programmieren für ÜbersetzerInnen', 'Freitag', 'Februar', 'Gymnasiumstraße']\n"
          ],
          "name": "stdout"
        }
      ]
    },
    {
      "cell_type": "markdown",
      "metadata": {
        "id": "QEXrJ79d7ohc",
        "colab_type": "text"
      },
      "source": [
        "Listen können auch verschiedene Datentypen kombinieren:"
      ]
    },
    {
      "cell_type": "code",
      "metadata": {
        "id": "7a7_sM1H7sA3",
        "colab_type": "code",
        "colab": {
          "base_uri": "https://localhost:8080/",
          "height": 34
        },
        "outputId": "173fda5c-3ba9-420c-cb61-c1a46ffaab7d"
      },
      "source": [
        "my_mixed_list = [\"Programmieren für ÜbersetzerInnen\", \"Freitag\", \"Februar\", 14, 2020, \"Gymnasiumstraße\", 50, True]\n",
        "print(my_mixed_list)"
      ],
      "execution_count": 28,
      "outputs": [
        {
          "output_type": "stream",
          "text": [
            "['Programmieren für ÜbersetzerInnen', 'Freitag', 'Februar', 14, 2020, 'Gymnasiumstraße', 50, True]\n"
          ],
          "name": "stdout"
        }
      ]
    },
    {
      "cell_type": "markdown",
      "metadata": {
        "id": "ocpRreTN7-3a",
        "colab_type": "text"
      },
      "source": [
        "Es ist möglich einer Liste Elemente hinzuzufügen durch Verwendung der Funktion `append()` wobei in Klammern das anzuhängende Element (hier die Zahl 0) angegeben wird. \n",
        "\n",
        "Die Funktion `len()` gibt die Länge - also die Anzahl der Listenelement bzw. die Anzahl der Buchstaben - der Variable, die ihr in Klammern übergeben wird, wieder. "
      ]
    },
    {
      "cell_type": "code",
      "metadata": {
        "id": "8Pcal1Ff8E3W",
        "colab_type": "code",
        "colab": {
          "base_uri": "https://localhost:8080/",
          "height": 69
        },
        "outputId": "06b1ae03-06e6-4512-c4b4-97889caed73d"
      },
      "source": [
        "# Die Zahl 0 hinzufügen\n",
        "my_mixed_list.append(0)\n",
        "print(my_mixed_list)\n",
        "\n",
        "# Die Länge der Liste ausgeben \n",
        "print(\"Länge von my_mixed_list: \", len(my_mixed_list))\n",
        "\n",
        "# Funktioniert auch auf strings \n",
        "print(\"Länge von mein String: \", len(my_string))"
      ],
      "execution_count": 29,
      "outputs": [
        {
          "output_type": "stream",
          "text": [
            "['Programmieren für ÜbersetzerInnen', 'Freitag', 'Februar', 14, 2020, 'Gymnasiumstraße', 50, True, 0]\n",
            "Länge von my_mixed_list:  9\n",
            "Länge von mein String:  33\n"
          ],
          "name": "stdout"
        }
      ]
    },
    {
      "cell_type": "markdown",
      "metadata": {
        "id": "ivipNozYsOkw",
        "colab_type": "text"
      },
      "source": [
        "Weiters können Elemente aus Listen mithilfe der Funktion `remove()` entfernt werden."
      ]
    },
    {
      "cell_type": "code",
      "metadata": {
        "id": "NQfZ8HbG8YWu",
        "colab_type": "code",
        "colab": {
          "base_uri": "https://localhost:8080/",
          "height": 52
        },
        "outputId": "453ecd71-9e1e-4cf1-ffd0-1b21c1a72d74"
      },
      "source": [
        "# Das Element \"0\" entfernen  \n",
        "my_mixed_list.remove(0)\n",
        "print(my_mixed_list)\n",
        "\n",
        "# Die Länge der Liste ausgeben \n",
        "print(\"Länge von my_mixed_list: \", len(my_mixed_list))"
      ],
      "execution_count": 30,
      "outputs": [
        {
          "output_type": "stream",
          "text": [
            "['Programmieren für ÜbersetzerInnen', 'Freitag', 'Februar', 14, 2020, 'Gymnasiumstraße', 50, True]\n",
            "Länge von my_mixed_list:  8\n"
          ],
          "name": "stdout"
        }
      ]
    },
    {
      "cell_type": "markdown",
      "metadata": {
        "id": "h_cHVGubsqhC",
        "colab_type": "text"
      },
      "source": [
        "**Aufgabe:** <br>\n",
        "Fügen Sie der nachstehenden Liste das Element \"Apfel\" hinzu und löschen Sie das Element \"Banane\". Wie viele Elemente hat die Liste (bitte ausgeben lassen und nicht manuell abzählen)?"
      ]
    },
    {
      "cell_type": "code",
      "metadata": {
        "id": "KR6gR-4ptFDB",
        "colab_type": "code",
        "colab": {
          "base_uri": "https://localhost:8080/",
          "height": 34
        },
        "outputId": "74c39450-1152-4e63-9442-16742c9085be"
      },
      "source": [
        "test_list = [\"Pfirsich\", \"Kiwi\", \"Mango\", \"Ananas\", \"Banane\"]\n",
        "test_list.remove(\"Banane\")\n",
        "test_list.append(\"Apfel\")\n",
        "print(\"Länge: \", len(test_list), test_list)"
      ],
      "execution_count": 31,
      "outputs": [
        {
          "output_type": "stream",
          "text": [
            "Länge:  5 ['Pfirsich', 'Kiwi', 'Mango', 'Ananas', 'Apfel']\n"
          ],
          "name": "stdout"
        }
      ]
    },
    {
      "cell_type": "markdown",
      "metadata": {
        "id": "CWGvR8pJnCBP",
        "colab_type": "text"
      },
      "source": [
        "## Lektion 2.4: Dictionaries\n",
        "\n",
        "Ein Dictionary (Deutsch: Wörterbuch) ist ein Datentyp der Attribut-Wert-Paare (z. B. Farbe: Rot), im Dictionary Key-Value genannt, speichert.  "
      ]
    },
    {
      "cell_type": "code",
      "metadata": {
        "id": "mrcZBfDznf08",
        "colab_type": "code",
        "colab": {
          "base_uri": "https://localhost:8080/",
          "height": 34
        },
        "outputId": "7ad0840a-de7e-42f5-e57f-58685cc808e9"
      },
      "source": [
        "erstes_dict =\t{\n",
        "  \"brand\": \"Ford\",\n",
        "  \"model\": \"Mustang\",\n",
        "  \"year\": 1964\n",
        "}\n",
        "print(erstes_dict)"
      ],
      "execution_count": 32,
      "outputs": [
        {
          "output_type": "stream",
          "text": [
            "{'brand': 'Ford', 'model': 'Mustang', 'year': 1964}\n"
          ],
          "name": "stdout"
        }
      ]
    },
    {
      "cell_type": "markdown",
      "metadata": {
        "id": "C2_rNDdInqeY",
        "colab_type": "text"
      },
      "source": [
        "Um auf einen Wert zuzugreifen, muss man den \"Key\" verwenden:"
      ]
    },
    {
      "cell_type": "code",
      "metadata": {
        "id": "RQ1eZQ1enssR",
        "colab_type": "code",
        "colab": {
          "base_uri": "https://localhost:8080/",
          "height": 34
        },
        "outputId": "aa65187d-e011-4ced-ca75-91623f686714"
      },
      "source": [
        "print(erstes_dict[\"model\"])"
      ],
      "execution_count": 33,
      "outputs": [
        {
          "output_type": "stream",
          "text": [
            "Mustang\n"
          ],
          "name": "stdout"
        }
      ]
    },
    {
      "cell_type": "markdown",
      "metadata": {
        "id": "NSzrO2yAn3fO",
        "colab_type": "text"
      },
      "source": [
        "Um einen Wert zu ändern braucht man ebenso den \"Key\":  "
      ]
    },
    {
      "cell_type": "code",
      "metadata": {
        "id": "t44w_PIBn8uP",
        "colab_type": "code",
        "colab": {
          "base_uri": "https://localhost:8080/",
          "height": 52
        },
        "outputId": "4e38081d-c857-4717-d16e-b04dadb8ccc3"
      },
      "source": [
        "print(\"vorher: \", erstes_dict)\n",
        "erstes_dict[\"year\"] = 2018\n",
        "print(\"nachher: \", erstes_dict)"
      ],
      "execution_count": 34,
      "outputs": [
        {
          "output_type": "stream",
          "text": [
            "vorher:  {'brand': 'Ford', 'model': 'Mustang', 'year': 1964}\n",
            "nachher:  {'brand': 'Ford', 'model': 'Mustang', 'year': 2018}\n"
          ],
          "name": "stdout"
        }
      ]
    },
    {
      "cell_type": "markdown",
      "metadata": {
        "id": "IkX3SodEoRoR",
        "colab_type": "text"
      },
      "source": [
        "Um die Länge eines Dictionaries zu bekommen verwenden wir wieder `len()`:"
      ]
    },
    {
      "cell_type": "code",
      "metadata": {
        "id": "ybmjUq1VoWbj",
        "colab_type": "code",
        "colab": {
          "base_uri": "https://localhost:8080/",
          "height": 34
        },
        "outputId": "756139d3-27f0-4665-d1ca-ec19ebdd239d"
      },
      "source": [
        "print(len(erstes_dict))"
      ],
      "execution_count": 35,
      "outputs": [
        {
          "output_type": "stream",
          "text": [
            "3\n"
          ],
          "name": "stdout"
        }
      ]
    },
    {
      "cell_type": "markdown",
      "metadata": {
        "id": "pqPzj8Oaoaep",
        "colab_type": "text"
      },
      "source": [
        "Elemente können mithilfe eines neuen \"Keys\" hinzugefügt werden:"
      ]
    },
    {
      "cell_type": "code",
      "metadata": {
        "id": "c30Chq8kodUI",
        "colab_type": "code",
        "colab": {
          "base_uri": "https://localhost:8080/",
          "height": 52
        },
        "outputId": "6261af9b-cca5-46f4-81a0-b43aa9a4edf5"
      },
      "source": [
        "print(\"vorher: \", erstes_dict)\n",
        "erstes_dict[\"color\"] = \"red\"\n",
        "print(\"nachher: \", erstes_dict)"
      ],
      "execution_count": 36,
      "outputs": [
        {
          "output_type": "stream",
          "text": [
            "vorher:  {'brand': 'Ford', 'model': 'Mustang', 'year': 2018}\n",
            "nachher:  {'brand': 'Ford', 'model': 'Mustang', 'year': 2018, 'color': 'red'}\n"
          ],
          "name": "stdout"
        }
      ]
    },
    {
      "cell_type": "markdown",
      "metadata": {
        "id": "cJfNWou1oks7",
        "colab_type": "text"
      },
      "source": [
        "Elemente werden mithilfe der Funktion `pop()`entfernt. \n",
        "\n",
        "**Aufgabe:** <br>\n",
        "Lassen Sie den nachstehenden Code zwei Mal laufen. Warum erhalten Sie beim zweiten Mal eine Fehlermeldung?"
      ]
    },
    {
      "cell_type": "code",
      "metadata": {
        "id": "zylAQqkQoq2U",
        "colab_type": "code",
        "colab": {
          "base_uri": "https://localhost:8080/",
          "height": 182
        },
        "outputId": "d849f558-3bcc-4611-a731-8094f2a240e8"
      },
      "source": [
        "erstes_dict.pop(\"model\")\n",
        "print(erstes_dict)"
      ],
      "execution_count": 38,
      "outputs": [
        {
          "output_type": "error",
          "ename": "KeyError",
          "evalue": "ignored",
          "traceback": [
            "\u001b[0;31m---------------------------------------------------------------------------\u001b[0m",
            "\u001b[0;31mKeyError\u001b[0m                                  Traceback (most recent call last)",
            "\u001b[0;32m<ipython-input-38-7f0fd884d6a8>\u001b[0m in \u001b[0;36m<module>\u001b[0;34m()\u001b[0m\n\u001b[0;32m----> 1\u001b[0;31m \u001b[0merstes_dict\u001b[0m\u001b[0;34m.\u001b[0m\u001b[0mpop\u001b[0m\u001b[0;34m(\u001b[0m\u001b[0;34m\"model\"\u001b[0m\u001b[0;34m)\u001b[0m\u001b[0;34m\u001b[0m\u001b[0;34m\u001b[0m\u001b[0m\n\u001b[0m\u001b[1;32m      2\u001b[0m \u001b[0mprint\u001b[0m\u001b[0;34m(\u001b[0m\u001b[0merstes_dict\u001b[0m\u001b[0;34m)\u001b[0m\u001b[0;34m\u001b[0m\u001b[0;34m\u001b[0m\u001b[0m\n",
            "\u001b[0;31mKeyError\u001b[0m: 'model'"
          ]
        }
      ]
    },
    {
      "cell_type": "markdown",
      "metadata": {
        "id": "mlpBYuclOepN",
        "colab_type": "text"
      },
      "source": [
        "**Antwort:** Sie erhalten eine Fehlermeldung weil der Key \"model\" schon beim ersten Mal gelöscht wurde und beim zweiten Durchlauf somit kein Key \"model\" mehr im Dictionary ist."
      ]
    },
    {
      "cell_type": "markdown",
      "metadata": {
        "id": "unMmfj5jpHDV",
        "colab_type": "text"
      },
      "source": [
        "**Aufgabe:** <br>\n",
        "Fügen Sie dem Dictionary `erstes_dict` den `Key` \"model\" mit dem Wert \"Ferrari\" hinzu und entfernen Sie das Element `year`."
      ]
    },
    {
      "cell_type": "code",
      "metadata": {
        "id": "GQbFEHGwpTz-",
        "colab_type": "code",
        "colab": {
          "base_uri": "https://localhost:8080/",
          "height": 34
        },
        "outputId": "d356ace5-1415-4f2b-8bcd-a1fe6b87ea5a"
      },
      "source": [
        "# Fügen Sie hier Ihren Code ein\n",
        "erstes_dict[\"model\"] = \"Ferrari\"\n",
        "erstes_dict.pop(\"year\")\n",
        "print(erstes_dict)"
      ],
      "execution_count": 39,
      "outputs": [
        {
          "output_type": "stream",
          "text": [
            "{'brand': 'Ford', 'color': 'red', 'model': 'Ferrari'}\n"
          ],
          "name": "stdout"
        }
      ]
    }
  ]
}